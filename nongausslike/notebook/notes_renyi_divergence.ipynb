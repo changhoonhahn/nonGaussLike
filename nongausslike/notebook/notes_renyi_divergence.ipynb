{
 "cells": [
  {
   "cell_type": "code",
   "execution_count": 9,
   "metadata": {},
   "outputs": [],
   "source": [
    "import numpy as np \n",
    "\n",
    "import matplotlib.pyplot as plt\n",
    "%matplotlib inline"
   ]
  },
  {
   "cell_type": "code",
   "execution_count": 21,
   "metadata": {
    "collapsed": true
   },
   "outputs": [],
   "source": [
    "from skl_groups.divergences import KNNDivergenceEstimator\n",
    "from skl_groups.features import Features"
   ]
  },
  {
   "cell_type": "code",
   "execution_count": 11,
   "metadata": {
    "collapsed": true
   },
   "outputs": [],
   "source": [
    "mvn = np.random.multivariate_normal"
   ]
  },
  {
   "cell_type": "code",
   "execution_count": 12,
   "metadata": {},
   "outputs": [],
   "source": [
    "np.random.multivariate_normal?"
   ]
  },
  {
   "cell_type": "code",
   "execution_count": 13,
   "metadata": {},
   "outputs": [],
   "source": [
    "sample1 = mvn([0.,0.], np.identity(2), size=100)"
   ]
  },
  {
   "cell_type": "code",
   "execution_count": 14,
   "metadata": {
    "collapsed": true
   },
   "outputs": [],
   "source": [
    "sample2 = mvn([0.,0.], np.identity(2), size=100)"
   ]
  },
  {
   "cell_type": "code",
   "execution_count": 15,
   "metadata": {},
   "outputs": [
    {
     "data": {
      "text/plain": [
       "<matplotlib.collections.PathCollection at 0x150f017bd0>"
      ]
     },
     "execution_count": 15,
     "metadata": {},
     "output_type": "execute_result"
    },
    {
     "data": {
      "image/png": "[encoded data removed]",
      "text/plain": [
       "<matplotlib.figure.Figure at 0x150eee2d90>"
      ]
     },
     "metadata": {},
     "output_type": "display_data"
    }
   ],
   "source": [
    "plt.scatter(sample1[:,0], sample1[:,1])\n",
    "plt.scatter(sample2[:,0], sample2[:,1])"
   ]
  },
  {
   "cell_type": "code",
   "execution_count": 19,
   "metadata": {},
   "outputs": [],
   "source": [
    "kNN = KNNDivergenceEstimator(div_funcs=[\"renyi:.8\"], Ks=[3], version='fast')"
   ]
  },
  {
   "cell_type": "code",
   "execution_count": 20,
   "metadata": {},
   "outputs": [
    {
     "ename": "TypeError",
     "evalue": "must pass n_pts if passing stacked array of features",
     "output_type": "error",
     "traceback": [
      "\u001b[0;31m---------------------------------------------------------------------------\u001b[0m",
      "\u001b[0;31mTypeError\u001b[0m                                 Traceback (most recent call last)",
      "\u001b[0;32m<ipython-input-20-d0bb013ba638>\u001b[0m in \u001b[0;36m<module>\u001b[0;34m()\u001b[0m\n\u001b[0;32m----> 1\u001b[0;31m \u001b[0mkNN\u001b[0m\u001b[0;34m.\u001b[0m\u001b[0mfit\u001b[0m\u001b[0;34m(\u001b[0m\u001b[0msample1\u001b[0m\u001b[0;34m,\u001b[0m \u001b[0my\u001b[0m\u001b[0;34m=\u001b[0m\u001b[0msample2\u001b[0m\u001b[0;34m)\u001b[0m\u001b[0;34m\u001b[0m\u001b[0m\n\u001b[0m",
      "\u001b[0;32m/Users/chang/anaconda2/lib/python2.7/site-packages/skl_groups/divergences/knn.pyc\u001b[0m in \u001b[0;36mfit\u001b[0;34m(self, X, y, get_rhos)\u001b[0m\n\u001b[1;32m    291\u001b[0m             \u001b[0mso\u001b[0m \u001b[0mthe\u001b[0m \u001b[0mcomputation\u001b[0m \u001b[0mhere\u001b[0m \u001b[0mmight\u001b[0m \u001b[0mbe\u001b[0m \u001b[0mwasted\u001b[0m\u001b[0;34m.\u001b[0m\u001b[0;34m\u001b[0m\u001b[0m\n\u001b[1;32m    292\u001b[0m         '''\n\u001b[0;32m--> 293\u001b[0;31m         \u001b[0mself\u001b[0m\u001b[0;34m.\u001b[0m\u001b[0mfeatures_\u001b[0m \u001b[0;34m=\u001b[0m \u001b[0mX\u001b[0m \u001b[0;34m=\u001b[0m \u001b[0mas_features\u001b[0m\u001b[0;34m(\u001b[0m\u001b[0mX\u001b[0m\u001b[0;34m,\u001b[0m \u001b[0mstack\u001b[0m\u001b[0;34m=\u001b[0m\u001b[0mTrue\u001b[0m\u001b[0;34m,\u001b[0m \u001b[0mbare\u001b[0m\u001b[0;34m=\u001b[0m\u001b[0mTrue\u001b[0m\u001b[0;34m)\u001b[0m\u001b[0;34m\u001b[0m\u001b[0m\n\u001b[0m\u001b[1;32m    294\u001b[0m \u001b[0;34m\u001b[0m\u001b[0m\n\u001b[1;32m    295\u001b[0m         \u001b[0;31m# if we're using a function that needs to pick its K vals itself,\u001b[0m\u001b[0;34m\u001b[0m\u001b[0;34m\u001b[0m\u001b[0m\n",
      "\u001b[0;32m/Users/chang/anaconda2/lib/python2.7/site-packages/skl_groups/features.pyc\u001b[0m in \u001b[0;36mas_features\u001b[0;34m(X, stack, bare)\u001b[0m\n\u001b[1;32m    407\u001b[0m             \u001b[0mX\u001b[0m\u001b[0;34m.\u001b[0m\u001b[0mmake_stacked\u001b[0m\u001b[0;34m(\u001b[0m\u001b[0;34m)\u001b[0m\u001b[0;34m\u001b[0m\u001b[0m\n\u001b[1;32m    408\u001b[0m         \u001b[0;32mreturn\u001b[0m \u001b[0mX\u001b[0m\u001b[0;34m.\u001b[0m\u001b[0mbare\u001b[0m\u001b[0;34m(\u001b[0m\u001b[0;34m)\u001b[0m \u001b[0;32mif\u001b[0m \u001b[0mbare\u001b[0m \u001b[0;32melse\u001b[0m \u001b[0mX\u001b[0m\u001b[0;34m\u001b[0m\u001b[0m\n\u001b[0;32m--> 409\u001b[0;31m     \u001b[0;32mreturn\u001b[0m \u001b[0mFeatures\u001b[0m\u001b[0;34m(\u001b[0m\u001b[0mX\u001b[0m\u001b[0;34m,\u001b[0m \u001b[0mstack\u001b[0m\u001b[0;34m=\u001b[0m\u001b[0mstack\u001b[0m\u001b[0;34m,\u001b[0m \u001b[0mbare\u001b[0m\u001b[0;34m=\u001b[0m\u001b[0mbare\u001b[0m\u001b[0;34m)\u001b[0m\u001b[0;34m\u001b[0m\u001b[0m\n\u001b[0m",
      "\u001b[0;32m/Users/chang/anaconda2/lib/python2.7/site-packages/skl_groups/features.pyc\u001b[0m in \u001b[0;36m__init__\u001b[0;34m(self, bags, n_pts, stack, copy, bare, **meta)\u001b[0m\n\u001b[1;32m    116\u001b[0m         \u001b[0;32mif\u001b[0m \u001b[0misinstance\u001b[0m\u001b[0;34m(\u001b[0m\u001b[0mbags\u001b[0m\u001b[0;34m,\u001b[0m \u001b[0mnp\u001b[0m\u001b[0;34m.\u001b[0m\u001b[0mndarray\u001b[0m\u001b[0;34m)\u001b[0m \u001b[0;32mand\u001b[0m \u001b[0mbags\u001b[0m\u001b[0;34m.\u001b[0m\u001b[0mndim\u001b[0m \u001b[0;34m==\u001b[0m \u001b[0;36m2\u001b[0m\u001b[0;34m:\u001b[0m\u001b[0;34m\u001b[0m\u001b[0m\n\u001b[1;32m    117\u001b[0m             \u001b[0;32mif\u001b[0m \u001b[0mn_pts\u001b[0m \u001b[0;32mis\u001b[0m \u001b[0mNone\u001b[0m\u001b[0;34m:\u001b[0m\u001b[0;34m\u001b[0m\u001b[0m\n\u001b[0;32m--> 118\u001b[0;31m                 raise TypeError(\"must pass n_pts if passing stacked array of \"\n\u001b[0m\u001b[1;32m    119\u001b[0m                                 \"features\")\n\u001b[1;32m    120\u001b[0m \u001b[0;34m\u001b[0m\u001b[0m\n",
      "\u001b[0;31mTypeError\u001b[0m: must pass n_pts if passing stacked array of features"
     ]
    }
   ],
   "source": [
    "kNN.fit(sample1, y=sample2)"
   ]
  },
  {
   "cell_type": "code",
   "execution_count": 23,
   "metadata": {},
   "outputs": [],
   "source": [
    "Features?"
   ]
  },
  {
   "cell_type": "code",
   "execution_count": 26,
   "metadata": {},
   "outputs": [
    {
     "name": "stdout",
     "output_type": "stream",
     "text": [
      "[[ 0.         -0.08798852]\n",
      " [-0.52748662  0.        ]]\n"
     ]
    },
    {
     "name": "stderr",
     "output_type": "stream",
     "text": [
      "Using 'slow' version of KNNDivergenceEstimator,  because skl_groups_accel isn't available; its 'fast' version is much faster on large problems. Pass version='slow' to suppress this warning. \n",
      "  No module named skl_groups_accel.knn_divs\n",
      "Using 'slow' version of KNNDivergenceEstimator,  because skl_groups_accel isn't available; its 'fast' version is much faster on large problems. Pass version='slow' to suppress this warning. \n",
      "  No module named skl_groups_accel.knn_divs\n"
     ]
    }
   ],
   "source": [
    "x = np.reshape([0., 1, 3], (3, 1))\n",
    "y = np.reshape([.2, 1.2, 3.2, 7.2], (4, 1))\n",
    "\n",
    "n = x.shape[0]\n",
    "m = y.shape[0]\n",
    "\n",
    "x_to_y = np.log(m / (n-1)) + 1/n * (\n",
    "        np.log(1.2 / 3) + np.log(.8 / 2) + np.log(1.8 / 3))\n",
    "y_to_x = np.log(n / (m-1)) + 1/m * (\n",
    "        np.log(.8 / 3) + np.log(1.2 / 2) + np.log(2.2 / 3) + np.log(6.2 / 6))\n",
    "\n",
    "#msg = \"got {}, expected {}\"\n",
    "est = KNNDivergenceEstimator(div_funcs=['kl'], Ks=[2], clamp=False)\n",
    "res = est.fit_transform([x, y]).squeeze()\n",
    "print res"
   ]
  },
  {
   "cell_type": "code",
   "execution_count": 34,
   "metadata": {},
   "outputs": [
    {
     "name": "stdout",
     "output_type": "stream",
     "text": [
      "(5, 2, 2, 2)\n",
      "[[[[  0.00000000e+00   1.65039096e-02]\n",
      "   [  2.62783878e-02   0.00000000e+00]]\n",
      "\n",
      "  [[  0.00000000e+00   1.67491153e-01]\n",
      "   [  0.00000000e+00   0.00000000e+00]]]\n",
      "\n",
      "\n",
      " [[[  0.00000000e+00   0.00000000e+00]\n",
      "   [  0.00000000e+00   0.00000000e+00]]\n",
      "\n",
      "  [[  0.00000000e+00   0.00000000e+00]\n",
      "   [  0.00000000e+00   0.00000000e+00]]]\n",
      "\n",
      "\n",
      " [[[ -0.00000000e+00   0.00000000e+00]\n",
      "   [  1.38330730e-02  -0.00000000e+00]]\n",
      "\n",
      "  [[ -0.00000000e+00   1.47218823e-01]\n",
      "   [  0.00000000e+00  -0.00000000e+00]]]\n",
      "\n",
      "\n",
      " [[[  0.00000000e+00   1.00884661e-02]\n",
      "   [  1.00884661e-02   0.00000000e+00]]\n",
      "\n",
      "  [[  0.00000000e+00   2.46471316e-02]\n",
      "   [  2.46471316e-02   0.00000000e+00]]]\n",
      "\n",
      "\n",
      " [[[ -0.00000000e+00   0.00000000e+00]\n",
      "   [  2.14576721e-05  -0.00000000e+00]]\n",
      "\n",
      "  [[ -0.00000000e+00   1.25561655e-01]\n",
      "   [  0.00000000e+00  -0.00000000e+00]]]]\n"
     ]
    },
    {
     "name": "stderr",
     "output_type": "stream",
     "text": [
      "Using 'slow' version of KNNDivergenceEstimator,  because skl_groups_accel isn't available; its 'fast' version is much faster on large problems. Pass version='slow' to suppress this warning. \n",
      "  No module named skl_groups_accel.knn_divs\n",
      "Using 'slow' version of KNNDivergenceEstimator,  because skl_groups_accel isn't available; its 'fast' version is much faster on large problems. Pass version='slow' to suppress this warning. \n",
      "  No module named skl_groups_accel.knn_divs\n"
     ]
    }
   ],
   "source": [
    "bags = Features([np.random.randn(np.random.randint(30, 100), 5)\n",
    "                         for _ in xrange(2)])\n",
    "\n",
    "div_funcs = ('kl', 'js', 'renyi:.9', 'l2', 'tsallis:.8')\n",
    "Ks = (3, 4)\n",
    "#get_est = partial(KNNDivergenceEstimator, div_funcs=div_funcs, Ks=Ks)\n",
    "#for version in ('best'):#, 'slow', 'best'):\n",
    "est = KNNDivergenceEstimator(div_funcs=div_funcs, Ks=Ks)#, version=version)\n",
    "results = est.fit_transform(bags)\n",
    "print results.shape\n",
    "print results"
   ]
  },
  {
   "cell_type": "code",
   "execution_count": null,
   "metadata": {
    "collapsed": true
   },
   "outputs": [],
   "source": []
  }
 ],
 "metadata": {
  "kernelspec": {
   "display_name": "Python 2",
   "language": "python",
   "name": "python2"
  },
  "language_info": {
   "codemirror_mode": {
    "name": "ipython",
    "version": 2
   },
   "file_extension": ".py",
   "mimetype": "text/x-python",
   "name": "python",
   "nbconvert_exporter": "python",
   "pygments_lexer": "ipython2",
   "version": "2.7.13"
  }
 },
 "nbformat": 4,
 "nbformat_minor": 2
}
