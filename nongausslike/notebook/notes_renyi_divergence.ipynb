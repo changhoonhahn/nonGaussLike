{
 "cells": [
  {
   "cell_type": "markdown",
   "metadata": {},
   "source": [
    "the objective of this notebook is to explore the $k$-NN estimator for calculating divergences between two \"bags\". Each \"bag\" represents an independent and identically distributed sample from some unknown probability distribution. "
   ]
  },
  {
   "cell_type": "code",
   "execution_count": 1,
   "metadata": {
    "collapsed": true
   },
   "outputs": [],
   "source": [
    "import numpy as np "
   ]
  },
  {
   "cell_type": "code",
   "execution_count": 2,
   "metadata": {
    "collapsed": true
   },
   "outputs": [],
   "source": [
    "import matplotlib as mpl \n",
    "import matplotlib.pyplot as plt \n",
    "mpl.rcParams['text.usetex'] = True\n",
    "mpl.rcParams['font.family'] = 'serif'\n",
    "mpl.rcParams['axes.linewidth'] = 1.5\n",
    "mpl.rcParams['axes.xmargin'] = 1\n",
    "mpl.rcParams['xtick.labelsize'] = 'x-large'\n",
    "mpl.rcParams['xtick.major.size'] = 5\n",
    "mpl.rcParams['xtick.major.width'] = 1.5\n",
    "mpl.rcParams['ytick.labelsize'] = 'x-large'\n",
    "mpl.rcParams['ytick.major.size'] = 5\n",
    "mpl.rcParams['ytick.major.width'] = 1.5\n",
    "mpl.rcParams['legend.frameon'] = False\n",
    "%matplotlib inline"
   ]
  },
  {
   "cell_type": "code",
   "execution_count": 3,
   "metadata": {
    "collapsed": true
   },
   "outputs": [],
   "source": [
    "from skl_groups.divergences import KNNDivergenceEstimator\n",
    "from skl_groups.features import Features"
   ]
  },
  {
   "cell_type": "markdown",
   "metadata": {},
   "source": [
    "lets try to get the divergence between two same bags..."
   ]
  },
  {
   "cell_type": "code",
   "execution_count": 6,
   "metadata": {
    "collapsed": true
   },
   "outputs": [],
   "source": [
    "mvn = np.random.multivariate_normal"
   ]
  },
  {
   "cell_type": "code",
   "execution_count": 70,
   "metadata": {
    "collapsed": true
   },
   "outputs": [],
   "source": [
    "sample1 = mvn([0.,0.], np.identity(2), size=100)\n",
    "sample2 = mvn([0.,0.], np.identity(2), size=101)"
   ]
  },
  {
   "cell_type": "code",
   "execution_count": 71,
   "metadata": {},
   "outputs": [
    {
     "data": {
      "text/plain": [
       "(-3.0, 3.0)"
      ]
     },
     "execution_count": 71,
     "metadata": {},
     "output_type": "execute_result"
    },
    {
     "data": {
      "image/png": "[encoded data removed]",
      "text/plain": [
       "<matplotlib.figure.Figure at 0x151289cbd0>"
      ]
     },
     "metadata": {},
     "output_type": "display_data"
    }
   ],
   "source": [
    "plt.figure(figsize=(3,3))\n",
    "plt.scatter(sample1[:,0], sample1[:,1])\n",
    "plt.scatter(sample2[:,0], sample2[:,1])\n",
    "plt.xlim([-3., 3.])\n",
    "plt.ylim([-3., 3.])"
   ]
  },
  {
   "cell_type": "code",
   "execution_count": 78,
   "metadata": {
    "collapsed": true
   },
   "outputs": [],
   "source": [
    "kNN = KNNDivergenceEstimator(div_funcs=[\"renyi:.8\"], Ks=[3])#, version='slow')"
   ]
  },
  {
   "cell_type": "code",
   "execution_count": 79,
   "metadata": {
    "collapsed": true
   },
   "outputs": [],
   "source": [
    "feat = Features([sample1, sample2])"
   ]
  },
  {
   "cell_type": "code",
   "execution_count": 80,
   "metadata": {},
   "outputs": [
    {
     "name": "stdout",
     "output_type": "stream",
     "text": [
      "<Features: 2 bags with 100 to 101 2-dimensional points (201 total)>\n"
     ]
    }
   ],
   "source": [
    "print feat"
   ]
  },
  {
   "cell_type": "code",
   "execution_count": 81,
   "metadata": {},
   "outputs": [
    {
     "name": "stderr",
     "output_type": "stream",
     "text": [
      "Using 'slow' version of KNNDivergenceEstimator,  because skl_groups_accel isn't available; its 'fast' version is much faster on large problems. Pass version='slow' to suppress this warning. \n",
      "  No module named skl_groups_accel.knn_divs\n",
      "Using 'slow' version of KNNDivergenceEstimator,  because skl_groups_accel isn't available; its 'fast' version is much faster on large problems. Pass version='slow' to suppress this warning. \n",
      "  No module named skl_groups_accel.knn_divs\n"
     ]
    }
   ],
   "source": [
    "div_knn = kNN.fit_transform(feat)"
   ]
  },
  {
   "cell_type": "code",
   "execution_count": 82,
   "metadata": {},
   "outputs": [
    {
     "name": "stdout",
     "output_type": "stream",
     "text": [
      "[[[[-0.          0.12223326]\n",
      "   [ 0.09261867 -0.        ]]]]\n"
     ]
    }
   ],
   "source": [
    "print div_knn"
   ]
  },
  {
   "cell_type": "code",
   "execution_count": 83,
   "metadata": {},
   "outputs": [
    {
     "name": "stdout",
     "output_type": "stream",
     "text": [
      "0.122233 0.0926187\n"
     ]
    }
   ],
   "source": [
    "div_1to2 = div_knn[0][0][0][1]\n",
    "div_2to1 = div_knn[0][0][1][0]\n",
    "print div_1to2, div_2to1"
   ]
  },
  {
   "cell_type": "markdown",
   "metadata": {},
   "source": [
    "lets try to use it to measure non-Gaussianity"
   ]
  },
  {
   "cell_type": "code",
   "execution_count": 88,
   "metadata": {
    "collapsed": true
   },
   "outputs": [],
   "source": [
    "gauss = mvn([0.], np.identity(1), size=200)\n",
    "nongauss = np.abs(mvn([0.], np.identity(1), size=120))"
   ]
  },
  {
   "cell_type": "code",
   "execution_count": 92,
   "metadata": {},
   "outputs": [
    {
     "data": {
      "image/png": "[encoded data removed]",
      "text/plain": [
       "<matplotlib.figure.Figure at 0x1512d40f50>"
      ]
     },
     "metadata": {},
     "output_type": "display_data"
    }
   ],
   "source": [
    "fig = plt.figure()\n",
    "sub = fig.add_subplot(111)\n",
    "_ = sub.hist(gauss, normed=True)\n",
    "_ = sub.hist(nongauss, normed=True)"
   ]
  },
  {
   "cell_type": "code",
   "execution_count": 90,
   "metadata": {},
   "outputs": [
    {
     "name": "stdout",
     "output_type": "stream",
     "text": [
      "[[[[-0.          1.12112188]\n",
      "   [ 0.79400337 -0.        ]]]]\n"
     ]
    }
   ],
   "source": [
    "kNN = KNNDivergenceEstimator(div_funcs=[\"renyi:.8\"], Ks=[2], version='slow')\n",
    "feat = Features([gauss, nongauss])\n",
    "div_knn = kNN.fit_transform(feat)\n",
    "print div_knn"
   ]
  },
  {
   "cell_type": "code",
   "execution_count": 91,
   "metadata": {
    "collapsed": true
   },
   "outputs": [],
   "source": [
    "gauss2 = (mvn([0.], np.identity(1), size=120))"
   ]
  },
  {
   "cell_type": "code",
   "execution_count": 93,
   "metadata": {},
   "outputs": [
    {
     "data": {
      "image/png": "[encoded data removed]",
      "text/plain": [
       "<matplotlib.figure.Figure at 0x1512bbd2d0>"
      ]
     },
     "metadata": {},
     "output_type": "display_data"
    }
   ],
   "source": [
    "fig = plt.figure()\n",
    "sub = fig.add_subplot(111)\n",
    "_ = sub.hist(gauss, normed=True)\n",
    "_ = sub.hist(gauss2, normed=True)"
   ]
  },
  {
   "cell_type": "code",
   "execution_count": 94,
   "metadata": {},
   "outputs": [
    {
     "name": "stdout",
     "output_type": "stream",
     "text": [
      "[[[[-0.          0.09514674]\n",
      "   [ 0.         -0.        ]]]]\n"
     ]
    }
   ],
   "source": [
    "kNN = KNNDivergenceEstimator(div_funcs=[\"renyi:.8\"], Ks=[2], version='slow')\n",
    "feat = Features([gauss, gauss2])\n",
    "div_knn = kNN.fit_transform(feat)\n",
    "print div_knn"
   ]
  },
  {
   "cell_type": "code",
   "execution_count": null,
   "metadata": {
    "collapsed": true
   },
   "outputs": [],
   "source": []
  }
 ],
 "metadata": {
  "kernelspec": {
   "display_name": "Python 2",
   "language": "python",
   "name": "python2"
  },
  "language_info": {
   "codemirror_mode": {
    "name": "ipython",
    "version": 2
   },
   "file_extension": ".py",
   "mimetype": "text/x-python",
   "name": "python",
   "nbconvert_exporter": "python",
   "pygments_lexer": "ipython2",
   "version": "2.7.13"
  }
 },
 "nbformat": 4,
 "nbformat_minor": 2
}
