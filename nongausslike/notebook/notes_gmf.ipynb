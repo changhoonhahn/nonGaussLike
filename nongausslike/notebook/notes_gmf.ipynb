{
 "cells": [
  {
   "cell_type": "markdown",
   "metadata": {},
   "source": [
    "the objective of this notebook is to examine the likelihood functional form of the group multiplicity function. to do so, I will generate a series of mock galaxy catalogs using halotools, then look at the likelihood function using the mock catalogs. "
   ]
  },
  {
   "cell_type": "code",
   "execution_count": 42,
   "metadata": {},
   "outputs": [],
   "source": [
    "import os\n",
    "import numpy as np\n",
    "import pickle\n",
    "\n",
    "import env\n",
    "import util as UT"
   ]
  },
  {
   "cell_type": "code",
   "execution_count": 8,
   "metadata": {
    "collapsed": true
   },
   "outputs": [],
   "source": [
    "from halotools.sim_manager import CachedHaloCatalog\n",
    "from halotools.empirical_models import PrebuiltHodModelFactory\n",
    "from halotools.empirical_models.factories.mock_helpers import three_dim_pos_bundle\n",
    "from halotools.mock_observables import FoFGroups\n",
    "from astropy.table import Table"
   ]
  },
  {
   "cell_type": "code",
   "execution_count": 22,
   "metadata": {
    "collapsed": true
   },
   "outputs": [],
   "source": [
    "import matplotlib as mpl \n",
    "import matplotlib.pyplot as plt \n",
    "mpl.rcParams['text.usetex'] = True\n",
    "mpl.rcParams['font.family'] = 'serif'\n",
    "mpl.rcParams['axes.linewidth'] = 1.5\n",
    "mpl.rcParams['axes.xmargin'] = 1\n",
    "mpl.rcParams['xtick.labelsize'] = 'x-large'\n",
    "mpl.rcParams['xtick.major.size'] = 5\n",
    "mpl.rcParams['xtick.major.width'] = 1.5\n",
    "mpl.rcParams['ytick.labelsize'] = 'x-large'\n",
    "mpl.rcParams['ytick.major.size'] = 5\n",
    "mpl.rcParams['ytick.major.width'] = 1.5\n",
    "mpl.rcParams['legend.frameon'] = False\n",
    "%matplotlib inline"
   ]
  },
  {
   "cell_type": "code",
   "execution_count": 9,
   "metadata": {
    "collapsed": true
   },
   "outputs": [],
   "source": [
    "def edge(index):\n",
    "    zi = (index / 25) * 200.\n",
    "    i2 = index % 25\n",
    "    yi = (i2 / 5) * 200.\n",
    "    i3 = i2 % 5\n",
    "    xi = (i3) * 200.\n",
    "    return xi , yi , zi\n",
    "\n",
    "def mask_galaxy_table(pos , subvol_index):\n",
    "    xi , yi , zi  = edge(subvol_index)\n",
    "    submask = np.where((xi <pos[:, 0]) * \\\n",
    "                       (pos[:, 0] < xi + 200) * \\\n",
    "                       (yi <pos[:, 1]) * \\\n",
    "                       (pos[:, 1] < yi + 200) * \\\n",
    "                       (zi <pos[:, 2]) *  \\\n",
    "                       (pos[:, 2] < zi + 200))\n",
    "    return pos[submask]"
   ]
  },
  {
   "cell_type": "code",
   "execution_count": 15,
   "metadata": {
    "collapsed": true
   },
   "outputs": [],
   "source": [
    "def richness(group_id):\n",
    "    '''Calculate the richness of a group given group_ids of galaxies. Uses astropy.table module\n",
    "    '''\n",
    "    gals = Table()\n",
    "    gals['groupid'] = group_id\n",
    "    gals['dummy'] = 1\n",
    "    grouped_table = gals.group_by('groupid')\n",
    "    grp_richness = grouped_table['dummy'].groups.aggregate(np.sum)\n",
    "    return np.array(grp_richness)"
   ]
  },
  {
   "cell_type": "code",
   "execution_count": 16,
   "metadata": {
    "collapsed": true
   },
   "outputs": [],
   "source": [
    "model = PrebuiltHodModelFactory('zheng07', threshold=-21)\n",
    "halocat = CachedHaloCatalog(simname='multidark', redshift=0, halo_finder='rockstar')"
   ]
  },
  {
   "cell_type": "code",
   "execution_count": 26,
   "metadata": {
    "collapsed": true
   },
   "outputs": [],
   "source": [
    "b_perp = 0.14\n",
    "b_para = 0.75\n",
    "gmf_bins = np.array([5,7,10,14,20,28,40])"
   ]
  },
  {
   "cell_type": "code",
   "execution_count": 32,
   "metadata": {},
   "outputs": [
    {
     "name": "stdout",
     "output_type": "stream",
     "text": [
      "mock # 1\n",
      "mock # 2\n",
      "mock # 3\n",
      "mock # 4\n",
      "mock # 5\n",
      "mock # 6\n",
      "mock # 7\n",
      "mock # 8\n",
      "mock # 9\n",
      "mock # 10\n",
      "mock # 11\n",
      "mock # 12\n",
      "mock # 13\n",
      "mock # 14\n",
      "mock # 15\n",
      "mock # 16\n",
      "mock # 17\n",
      "mock # 18\n",
      "mock # 19\n",
      "mock # 20\n",
      "mock # 21\n",
      "mock # 22\n",
      "mock # 23\n",
      "mock # 24\n",
      "mock # 25\n",
      "mock # 26\n",
      "mock # 27\n",
      "mock # 28\n",
      "mock # 29\n",
      "mock # 30\n",
      "mock # 31\n",
      "mock # 32\n",
      "mock # 33\n",
      "mock # 34\n",
      "mock # 35\n",
      "mock # 36\n",
      "mock # 37\n",
      "mock # 38\n",
      "mock # 39\n",
      "mock # 40\n",
      "mock # 41\n",
      "mock # 42\n",
      "mock # 43\n",
      "mock # 44\n",
      "mock # 45\n",
      "mock # 46\n",
      "mock # 47\n",
      "mock # 48\n",
      "mock # 49\n",
      "mock # 50\n",
      "mock # 51\n",
      "mock # 52\n",
      "mock # 53\n",
      "mock # 54\n",
      "mock # 55\n",
      "mock # 56\n",
      "mock # 57\n",
      "mock # 58\n",
      "mock # 59\n",
      "mock # 60\n",
      "mock # 61\n",
      "mock # 62\n",
      "mock # 63\n",
      "mock # 64\n",
      "mock # 65\n",
      "mock # 66\n",
      "mock # 67\n",
      "mock # 68\n",
      "mock # 69\n",
      "mock # 70\n",
      "mock # 71\n",
      "mock # 72\n",
      "mock # 73\n",
      "mock # 74\n",
      "mock # 75\n",
      "mock # 76\n",
      "mock # 77\n",
      "mock # 78\n",
      "mock # 79\n",
      "mock # 80\n",
      "mock # 81\n",
      "mock # 82\n",
      "mock # 83\n",
      "mock # 84\n",
      "mock # 85\n",
      "mock # 86\n",
      "mock # 87\n",
      "mock # 88\n",
      "mock # 89\n",
      "mock # 90\n",
      "mock # 91\n",
      "mock # 92\n",
      "mock # 93\n",
      "mock # 94\n",
      "mock # 95\n",
      "mock # 96\n",
      "mock # 97\n",
      "mock # 98\n",
      "mock # 99\n",
      "mock # 100\n",
      "mock # 101\n",
      "mock # 102\n",
      "mock # 103\n",
      "mock # 104\n",
      "mock # 105\n",
      "mock # 106\n",
      "mock # 107\n",
      "mock # 108\n",
      "mock # 109\n",
      "mock # 110\n",
      "mock # 111\n",
      "mock # 112\n",
      "mock # 113\n",
      "mock # 114\n",
      "mock # 115\n",
      "mock # 116\n",
      "mock # 117\n",
      "mock # 118\n",
      "mock # 119\n",
      "mock # 120\n",
      "mock # 121\n",
      "mock # 122\n",
      "mock # 123\n",
      "mock # 124\n"
     ]
    }
   ],
   "source": [
    "gmf_file = ''.join([UT.dat_dir(), 'submultidark.gmf.p'])\n",
    "if os.path.isfile(gmf_file): \n",
    "    gmf_dict = pickle.load(open(gmf_file, 'rb'))\n",
    "    gmfs = gmf_dict['gmfs']\n",
    "else: \n",
    "    nbars, gmfs = [], []\n",
    "    for i in range(1, 125): \n",
    "        print 'mock #', i\n",
    "        model.populate_mock(halocat) # populate the halo catalog\n",
    "        pos = three_dim_pos_bundle(model.mock.galaxy_table, 'x', 'y', 'z')\n",
    "        pos = mask_galaxy_table(pos , i)\n",
    "    \n",
    "        nbars.append(len(pos) / 200**3.)\n",
    "        groups = FoFGroups(pos, b_perp, b_para, period=200)\n",
    "        gmf_i = np.histogram(richness(groups.group_ids), gmf_bins)[0]/200.**3\n",
    "        gmfs.append(gmf_i)\n",
    "    \n",
    "    # save gmfs to file \n",
    "    gmf_dict = {'gmf_bins': gmf_bins, 'gmfs': gmfs}\n",
    "    pickle.dump(gmf_dict, open(, 'wb'))"
   ]
  },
  {
   "cell_type": "code",
   "execution_count": 34,
   "metadata": {},
   "outputs": [
    {
     "name": "stdout",
     "output_type": "stream",
     "text": [
      "124\n"
     ]
    },
    {
     "data": {
      "image/png": "[encoded data removed]",
      "text/plain": [
       "<matplotlib.figure.Figure at 0x1b84c81490>"
      ]
     },
     "metadata": {},
     "output_type": "display_data"
    }
   ],
   "source": [
    "fig = plt.figure()\n",
    "sub = fig.add_subplot(111)\n",
    "print np.array(gmfs).shape[0]\n",
    "for gmf in gmfs: \n",
    "    sub.plot(0.5*(gmf_bins[1:] + gmf_bins[:-1]), gmf, c='k', alpha=0.1)\n",
    "sub.plot(0.5*(gmf_bins[1:] + gmf_bins[:-1]), np.sum(np.array(gmfs), axis=0)/float(len(gmfs)), c='k', lw=2)\n",
    "sub.set_xlim([0.,35])\n",
    "sub.set_xlabel('N', fontsize=25)\n",
    "sub.set_ylabel('Group Multiplicity Function', fontsize=20)\n",
    "sub.set_yscale(\"log\")"
   ]
  },
  {
   "cell_type": "code",
   "execution_count": 41,
   "metadata": {},
   "outputs": [],
   "source": [
    "# save gmfs to file \n",
    "gmf_dict = {'gmf_bins': gmf_bins, 'gmfs': gmfs}\n",
    "pickle.dump(gmf_dict, open(''.join([UT.dat_dir(), 'submultidark.gmf.p']), 'wb'))"
   ]
  },
  {
   "cell_type": "code",
   "execution_count": null,
   "metadata": {
    "collapsed": true
   },
   "outputs": [],
   "source": []
  }
 ],
 "metadata": {
  "kernelspec": {
   "display_name": "Python 2",
   "language": "python",
   "name": "python2"
  },
  "language_info": {
   "codemirror_mode": {
    "name": "ipython",
    "version": 2
   },
   "file_extension": ".py",
   "mimetype": "text/x-python",
   "name": "python",
   "nbconvert_exporter": "python",
   "pygments_lexer": "ipython2",
   "version": "2.7.13"
  }
 },
 "nbformat": 4,
 "nbformat_minor": 2
}
