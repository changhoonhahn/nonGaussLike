{
 "cells": [
  {
   "cell_type": "markdown",
   "metadata": {},
   "source": [
    "the objective of this notebook is to examine the likelihood functional form of the group multiplicity function. to do so, I will generate a series of mock galaxy catalogs using halotools, then look at the likelihood function using the mock catalogs. "
   ]
  },
  {
   "cell_type": "code",
   "execution_count": 1,
   "metadata": {
    "collapsed": true
   },
   "outputs": [],
   "source": [
    "import os\n",
    "import numpy as np\n",
    "import pickle\n",
    "\n",
    "import env\n",
    "import util as UT"
   ]
  },
  {
   "cell_type": "code",
   "execution_count": 2,
   "metadata": {
    "collapsed": true
   },
   "outputs": [],
   "source": [
    "from halotools.sim_manager import CachedHaloCatalog\n",
    "from halotools.empirical_models import PrebuiltHodModelFactory\n",
    "from halotools.empirical_models.factories.mock_helpers import three_dim_pos_bundle\n",
    "from halotools.mock_observables import FoFGroups\n",
    "from astropy.table import Table"
   ]
  },
  {
   "cell_type": "code",
   "execution_count": 24,
   "metadata": {
    "collapsed": true
   },
   "outputs": [],
   "source": [
    "from skl_groups.divergences import KNNDivergenceEstimator\n",
    "from skl_groups.features import Features"
   ]
  },
  {
   "cell_type": "code",
   "execution_count": 3,
   "metadata": {
    "collapsed": true
   },
   "outputs": [],
   "source": [
    "import matplotlib as mpl \n",
    "import matplotlib.pyplot as plt \n",
    "mpl.rcParams['text.usetex'] = True\n",
    "mpl.rcParams['font.family'] = 'serif'\n",
    "mpl.rcParams['axes.linewidth'] = 1.5\n",
    "mpl.rcParams['axes.xmargin'] = 1\n",
    "mpl.rcParams['xtick.labelsize'] = 'x-large'\n",
    "mpl.rcParams['xtick.major.size'] = 5\n",
    "mpl.rcParams['xtick.major.width'] = 1.5\n",
    "mpl.rcParams['ytick.labelsize'] = 'x-large'\n",
    "mpl.rcParams['ytick.major.size'] = 5\n",
    "mpl.rcParams['ytick.major.width'] = 1.5\n",
    "mpl.rcParams['legend.frameon'] = False\n",
    "%matplotlib inline"
   ]
  },
  {
   "cell_type": "code",
   "execution_count": 4,
   "metadata": {
    "collapsed": true
   },
   "outputs": [],
   "source": [
    "def edge(index):\n",
    "    zi = (index / 25) * 200.\n",
    "    i2 = index % 25\n",
    "    yi = (i2 / 5) * 200.\n",
    "    i3 = i2 % 5\n",
    "    xi = (i3) * 200.\n",
    "    return xi , yi , zi\n",
    "\n",
    "def mask_galaxy_table(pos , subvol_index):\n",
    "    xi , yi , zi  = edge(subvol_index)\n",
    "    submask = np.where((xi <pos[:, 0]) * \\\n",
    "                       (pos[:, 0] < xi + 200) * \\\n",
    "                       (yi <pos[:, 1]) * \\\n",
    "                       (pos[:, 1] < yi + 200) * \\\n",
    "                       (zi <pos[:, 2]) *  \\\n",
    "                       (pos[:, 2] < zi + 200))\n",
    "    return pos[submask]"
   ]
  },
  {
   "cell_type": "code",
   "execution_count": 5,
   "metadata": {
    "collapsed": true
   },
   "outputs": [],
   "source": [
    "def richness(group_id):\n",
    "    '''Calculate the richness of a group given group_ids of galaxies. Uses astropy.table module\n",
    "    '''\n",
    "    gals = Table()\n",
    "    gals['groupid'] = group_id\n",
    "    gals['dummy'] = 1\n",
    "    grouped_table = gals.group_by('groupid')\n",
    "    grp_richness = grouped_table['dummy'].groups.aggregate(np.sum)\n",
    "    return np.array(grp_richness)"
   ]
  },
  {
   "cell_type": "code",
   "execution_count": 6,
   "metadata": {
    "collapsed": true
   },
   "outputs": [],
   "source": [
    "model = PrebuiltHodModelFactory('zheng07', threshold=-21)\n",
    "halocat = CachedHaloCatalog(simname='multidark', redshift=0, halo_finder='rockstar')"
   ]
  },
  {
   "cell_type": "code",
   "execution_count": 7,
   "metadata": {
    "collapsed": true
   },
   "outputs": [],
   "source": [
    "b_perp = 0.14\n",
    "b_para = 0.75\n",
    "gmf_bins = np.array([5,7,10,14,20,28,40])"
   ]
  },
  {
   "cell_type": "code",
   "execution_count": 10,
   "metadata": {},
   "outputs": [],
   "source": [
    "gmf_file = ''.join([UT.dat_dir(), 'submultidark.gmf.p'])\n",
    "if os.path.isfile(gmf_file): \n",
    "    gmf_dict = pickle.load(open(gmf_file, 'rb'))\n",
    "    gmfs = gmf_dict['gmfs']\n",
    "else: \n",
    "    nbars, gmfs = [], []\n",
    "    for i in range(1, 125): \n",
    "        print 'mock #', i\n",
    "        model.populate_mock(halocat) # populate the halo catalog\n",
    "        pos = three_dim_pos_bundle(model.mock.galaxy_table, 'x', 'y', 'z')\n",
    "        pos = mask_galaxy_table(pos , i)\n",
    "    \n",
    "        nbars.append(len(pos) / 200**3.)\n",
    "        groups = FoFGroups(pos, b_perp, b_para, period=200)\n",
    "        gmf_i = np.histogram(richness(groups.group_ids), gmf_bins)[0]/200.**3\n",
    "        gmfs.append(gmf_i)\n",
    "    \n",
    "    # save gmfs to file \n",
    "    gmf_dict = {'gmf_bins': gmf_bins, 'gmfs': gmfs}\n",
    "    pickle.dump(gmf_dict, open(gmf_file, 'wb'))"
   ]
  },
  {
   "cell_type": "code",
   "execution_count": 16,
   "metadata": {
    "collapsed": true
   },
   "outputs": [],
   "source": [
    "# compute average GMF\n",
    "gmf_avg = np.sum(np.array(gmfs), axis=0)/float(len(gmfs))"
   ]
  },
  {
   "cell_type": "code",
   "execution_count": 17,
   "metadata": {},
   "outputs": [
    {
     "name": "stdout",
     "output_type": "stream",
     "text": [
      "124\n"
     ]
    },
    {
     "data": {
      "image/png": "[encoded data removed]",
      "text/plain": [
       "<matplotlib.figure.Figure at 0x1a0ebaccd0>"
      ]
     },
     "metadata": {},
     "output_type": "display_data"
    }
   ],
   "source": [
    "fig = plt.figure()\n",
    "sub = fig.add_subplot(111)\n",
    "print np.array(gmfs).shape[0]\n",
    "for gmf in gmfs: \n",
    "    sub.plot(0.5*(gmf_bins[1:] + gmf_bins[:-1]), gmf, c='k', alpha=0.1)\n",
    "sub.plot(0.5*(gmf_bins[1:] + gmf_bins[:-1]), gmf_avg, c='k', lw=2)\n",
    "sub.set_xlim([0.,35])\n",
    "sub.set_xlabel('N', fontsize=25)\n",
    "sub.set_ylabel('Group Multiplicity Function', fontsize=20)\n",
    "sub.set_yscale(\"log\")"
   ]
  },
  {
   "cell_type": "markdown",
   "metadata": {
    "collapsed": true
   },
   "source": [
    "Now we can use the GMFs to calculate covariance matrix"
   ]
  },
  {
   "cell_type": "code",
   "execution_count": 18,
   "metadata": {},
   "outputs": [
    {
     "name": "stdout",
     "output_type": "stream",
     "text": [
      "(6, 6)\n"
     ]
    }
   ],
   "source": [
    "C_gmf = np.cov(np.array(gmfs).T)\n",
    "print C_gmf.shape"
   ]
  },
  {
   "cell_type": "code",
   "execution_count": 96,
   "metadata": {},
   "outputs": [
    {
     "data": {
      "text/plain": [
       "<matplotlib.image.AxesImage at 0x1a11a10450>"
      ]
     },
     "execution_count": 96,
     "metadata": {},
     "output_type": "execute_result"
    },
    {
     "data": {
      "image/png": "[encoded data removed]",
      "text/plain": [
       "<matplotlib.figure.Figure at 0x1a11b1b6d0>"
      ]
     },
     "metadata": {},
     "output_type": "display_data"
    }
   ],
   "source": [
    "plt.imshow(C_gmf)"
   ]
  },
  {
   "cell_type": "markdown",
   "metadata": {},
   "source": [
    "Now the question is, how does the pdf of the GMFs diverge from a multivariate Gaussian with covariance $C_\\mathrm{gmf}$? One way to quantify this is to calculate the divergence between the GMFs and a multivare Gaussian"
   ]
  },
  {
   "cell_type": "code",
   "execution_count": 15,
   "metadata": {
    "collapsed": true
   },
   "outputs": [],
   "source": [
    "mvn = np.random.multivariate_normal"
   ]
  },
  {
   "cell_type": "code",
   "execution_count": 112,
   "metadata": {},
   "outputs": [],
   "source": [
    "gauss = mvn(np.zeros(len(gmf_avg)), C_gmf, size=200) # reference Gaussian distribution"
   ]
  },
  {
   "cell_type": "code",
   "execution_count": 115,
   "metadata": {},
   "outputs": [
    {
     "data": {
      "text/plain": [
       "(1e-06, 6e-06)"
      ]
     },
     "execution_count": 115,
     "metadata": {},
     "output_type": "execute_result"
    },
    {
     "data": {
      "image/png": "[encoded data removed]",
      "text/plain": [
       "<matplotlib.figure.Figure at 0x1a11fcdfd0>"
      ]
     },
     "metadata": {},
     "output_type": "display_data"
    }
   ],
   "source": [
    "plt.scatter(gauss[:,0]+gmf_avg[0], gauss[:,1]+gmf_avg[1])\n",
    "plt.scatter(np.array(gmfs)[:,0], np.array(gmfs)[:,1])\n",
    "plt.xlim([5e-6,1.5e-5])\n",
    "plt.ylim([1e-6,6e-6])"
   ]
  },
  {
   "cell_type": "code",
   "execution_count": 140,
   "metadata": {
    "collapsed": true
   },
   "outputs": [],
   "source": [
    "kNN = KNNDivergenceEstimator(div_funcs=[\"renyi:.1\"], Ks=[3], version='slow')"
   ]
  },
  {
   "cell_type": "code",
   "execution_count": 141,
   "metadata": {},
   "outputs": [
    {
     "name": "stdout",
     "output_type": "stream",
     "text": [
      "[[[[-0.          0.84915936]\n",
      "   [ 0.         -0.        ]]]]\n"
     ]
    }
   ],
   "source": [
    "feat = Features([np.abs(np.array(gmfs)-gmf_avg), gauss])\n",
    "div_knn = kNN.fit_transform(feat)\n",
    "print div_knn"
   ]
  },
  {
   "cell_type": "code",
   "execution_count": 142,
   "metadata": {},
   "outputs": [
    {
     "name": "stdout",
     "output_type": "stream",
     "text": [
      "[[[[-0.          0.84915936]\n",
      "   [ 0.         -0.        ]]]]\n"
     ]
    }
   ],
   "source": [
    "feat = Features([np.array(gmfs)-gmf_avg, gauss])\n",
    "div_knn = kNN.fit_transform(feat)\n",
    "print div_knn"
   ]
  },
  {
   "cell_type": "code",
   "execution_count": 143,
   "metadata": {
    "collapsed": true
   },
   "outputs": [],
   "source": [
    "gauss_2 = mvn(np.zeros(len(gmf_avg)), C_gmf, size=len(gmfs))"
   ]
  },
  {
   "cell_type": "code",
   "execution_count": 144,
   "metadata": {},
   "outputs": [
    {
     "name": "stdout",
     "output_type": "stream",
     "text": [
      "<Features: 2 bags with 124 to 200 6-dimensional points (324 total)>\n"
     ]
    }
   ],
   "source": [
    "feat = Features([gauss, gauss_2])\n",
    "print feat"
   ]
  },
  {
   "cell_type": "code",
   "execution_count": 145,
   "metadata": {},
   "outputs": [
    {
     "name": "stdout",
     "output_type": "stream",
     "text": [
      "[[[[-0.          0.        ]\n",
      "   [ 0.84915936 -0.        ]]]]\n"
     ]
    }
   ],
   "source": [
    "div_knn = kNN.fit_transform(feat)\n",
    "print div_knn"
   ]
  },
  {
   "cell_type": "code",
   "execution_count": null,
   "metadata": {
    "collapsed": true
   },
   "outputs": [],
   "source": []
  }
 ],
 "metadata": {
  "kernelspec": {
   "display_name": "Python 2",
   "language": "python",
   "name": "python2"
  },
  "language_info": {
   "codemirror_mode": {
    "name": "ipython",
    "version": 2
   },
   "file_extension": ".py",
   "mimetype": "text/x-python",
   "name": "python",
   "nbconvert_exporter": "python",
   "pygments_lexer": "ipython2",
   "version": "2.7.13"
  }
 },
 "nbformat": 4,
 "nbformat_minor": 2
}
