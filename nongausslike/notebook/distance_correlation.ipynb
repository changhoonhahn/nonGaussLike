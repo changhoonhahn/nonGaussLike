{
 "cells": [
  {
   "cell_type": "markdown",
   "metadata": {},
   "source": [
    "using distance correlation to determine whether two vectors are statistically independent"
   ]
  },
  {
   "cell_type": "code",
   "execution_count": null,
   "metadata": {
    "collapsed": true
   },
   "outputs": [],
   "source": [
    "def dCov(x, y): \n",
    "    if len(x) != len(y): \n",
    "        raise ValueError\n",
    "    n = len(x)\n",
    "    a, b = np.zeros((n, n)), np.zeros((n, n))\n",
    "    A, B = np.zeros((n, n)), np.zeros((n, n))\n",
    "    for i in range(n): \n",
    "        for j in range(n):\n",
    "            a[i,j] = np.abs(x[i] - x[j])\n",
    "            b[i,j] = np.abs(y[i] - y[j])\n",
    "            \n",
    "    for i in range(len(x)): \n",
    "        for j in range(len(x)):    \n",
    "            A[i,j] = a[i,j] - np.mean(a[i,:]) - np.mean(a[:,j]) - np.mean(a)\n",
    "            B[i,j] = b[i,j] - np.mean(b[i,:]) - np.mean(b[:,j]) - np.mean(b)\n",
    "            dcov = 1./np.float(n)**2 * "
   ]
  }
 ],
 "metadata": {
  "kernelspec": {
   "display_name": "Python 2",
   "language": "python",
   "name": "python2"
  },
  "language_info": {
   "codemirror_mode": {
    "name": "ipython",
    "version": 2
   },
   "file_extension": ".py",
   "mimetype": "text/x-python",
   "name": "python",
   "nbconvert_exporter": "python",
   "pygments_lexer": "ipython2",
   "version": "2.7.10"
  }
 },
 "nbformat": 4,
 "nbformat_minor": 0
}
