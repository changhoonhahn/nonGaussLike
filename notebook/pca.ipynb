{
 "cells": [
  {
   "cell_type": "markdown",
   "metadata": {},
   "source": [
    "Determine why different PCA methods return different results "
   ]
  },
  {
   "cell_type": "code",
   "execution_count": 32,
   "metadata": {
    "collapsed": false
   },
   "outputs": [],
   "source": [
    "import numpy as np \n",
    "import scipy as sp\n",
    "from sklearn.decomposition import PCA\n",
    "# -- local -- \n",
    "import env\n",
    "import data as Data\n",
    "# -- plotting\n",
    "import matplotlib.pyplot as plt \n",
    "%matplotlib inline"
   ]
  },
  {
   "cell_type": "markdown",
   "metadata": {},
   "source": [
    "Construct data matrix ${\\bf X}$"
   ]
  },
  {
   "cell_type": "code",
   "execution_count": 3,
   "metadata": {
    "collapsed": true
   },
   "outputs": [],
   "source": [
    "pkay = Data.Pk()\n",
    "n_mock = pkay._n_mock('qpm')\n",
    "for i in range(1, n_mock+1): \n",
    "    pkay.Read('qpm', i, ell=0)\n",
    "    pkay.krange([0.01, 0.15])\n",
    "    k, pk, _ = pkay.rebin('beutler')\n",
    "    \n",
    "    if i == 1:\n",
    "        X = np.zeros((n_mock, len(k)))\n",
    "    X[i-1,:] = pk"
   ]
  },
  {
   "cell_type": "markdown",
   "metadata": {},
   "source": [
    "${\\bf X}$ is a $N_{mock} \\times N_{k}$ matrix. Now lets subtract off the mean"
   ]
  },
  {
   "cell_type": "code",
   "execution_count": 4,
   "metadata": {
    "collapsed": false
   },
   "outputs": [
    {
     "name": "stdout",
     "output_type": "stream",
     "text": [
      "(14,)\n"
     ]
    }
   ],
   "source": [
    "mu_X = np.sum(X, axis=0)/np.float(n_mock)"
   ]
  },
  {
   "cell_type": "code",
   "execution_count": 5,
   "metadata": {
    "collapsed": true
   },
   "outputs": [],
   "source": [
    "X -= mu_X"
   ]
  },
  {
   "cell_type": "markdown",
   "metadata": {},
   "source": [
    "Now lets manually implement PCA"
   ]
  },
  {
   "cell_type": "code",
   "execution_count": 57,
   "metadata": {
    "collapsed": true
   },
   "outputs": [],
   "source": [
    "def PCAwhite(Xin): \n",
    "    #C_x = np.cov(Xin.T)\n",
    "    U, S, V = sp.linalg.svd(Xin, full_matrices=False)\n",
    "    #d, V = np.linalg.eigh(C_x)\n",
    "    #D = np.diag(1./np.sqrt(d))\n",
    "    #W = np.dot(np.dot(V, D), V.T)\n",
    "    \n",
    "    #X_w = np.dot(Xin, V.T)\n",
    "    return U * np.sqrt(Xin.shape[0]-1), V.T"
   ]
  },
  {
   "cell_type": "code",
   "execution_count": 55,
   "metadata": {
    "collapsed": false
   },
   "outputs": [
    {
     "name": "stdout",
     "output_type": "stream",
     "text": [
      "[ 162086.16267392   84476.78232975   52738.12050123   31403.94205646\n",
      "   22481.72846206   17760.75329591   13814.5538258    10639.55889188\n",
      "    8135.25506649    6562.66438656    5528.86183037    4872.73502952\n",
      "    3930.08845293    3287.83945793]\n"
     ]
    }
   ],
   "source": [
    "X_pca, W_pca = PCAwhite(X)"
   ]
  },
  {
   "cell_type": "code",
   "execution_count": 56,
   "metadata": {
    "collapsed": false
   },
   "outputs": [
    {
     "name": "stdout",
     "output_type": "stream",
     "text": [
      "[-1.16475388 -0.69478916 -1.30720776  1.836608    1.56729737 -2.95857983\n",
      "  1.04277207  2.12142586 -3.837459   -3.29238689  0.89975684 -0.1721782\n",
      " -0.49196657  0.55540551]\n"
     ]
    }
   ],
   "source": [
    "print X_pca[0,:]"
   ]
  },
  {
   "cell_type": "code",
   "execution_count": 58,
   "metadata": {
    "collapsed": true
   },
   "outputs": [],
   "source": [
    "def PCAsklearn(Xin): \n",
    "    n_comp = Xin.shape[1]\n",
    "    \n",
    "    pca = PCA(n_components=n_comp, whiten=True)\n",
    "    X_new = pca.fit_transform(Xin)\n",
    "    return X_new, pca.components_.T"
   ]
  },
  {
   "cell_type": "code",
   "execution_count": 59,
   "metadata": {
    "collapsed": true
   },
   "outputs": [],
   "source": [
    "X_pca_sk, W_pca_sk = PCAsklearn(X)"
   ]
  },
  {
   "cell_type": "code",
   "execution_count": 60,
   "metadata": {
    "collapsed": false
   },
   "outputs": [
    {
     "name": "stdout",
     "output_type": "stream",
     "text": [
      "[ 1.1653367  -0.69513681  1.30786186 -1.837527    1.5680816   2.96006023\n",
      "  1.04329385  2.12248737  3.83937917  3.29403432 -0.90020706 -0.17226435\n",
      "  0.49221274 -0.55568342]\n"
     ]
    }
   ],
   "source": [
    "print X_pca_sk[0,:]"
   ]
  },
  {
   "cell_type": "code",
   "execution_count": null,
   "metadata": {
    "collapsed": true
   },
   "outputs": [],
   "source": []
  }
 ],
 "metadata": {
  "kernelspec": {
   "display_name": "Python 2",
   "language": "python",
   "name": "python2"
  },
  "language_info": {
   "codemirror_mode": {
    "name": "ipython",
    "version": 2
   },
   "file_extension": ".py",
   "mimetype": "text/x-python",
   "name": "python",
   "nbconvert_exporter": "python",
   "pygments_lexer": "ipython2",
   "version": "2.7.10"
  }
 },
 "nbformat": 4,
 "nbformat_minor": 0
}
