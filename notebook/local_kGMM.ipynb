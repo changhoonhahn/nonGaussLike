{
 "cells": [
  {
   "cell_type": "markdown",
   "metadata": {},
   "source": [
    "Get the number of components of the best-fit GMM estimate of $p(x)$ for the $P_\\ell$ and GMF analyses"
   ]
  },
  {
   "cell_type": "code",
   "execution_count": 1,
   "metadata": {},
   "outputs": [],
   "source": [
    "import pickle\n",
    "import numpy as np \n",
    "from sklearn.mixture import GaussianMixture as GMix\n",
    "# --- ngl ---\n",
    "from nongausslike import util as UT\n",
    "from nongausslike import nongauss as NG"
   ]
  },
  {
   "cell_type": "code",
   "execution_count": 2,
   "metadata": {},
   "outputs": [],
   "source": [
    "import matplotlib as mpl \n",
    "import matplotlib.pyplot as plt\n",
    "mpl.rcParams['text.usetex'] = True\n",
    "mpl.rcParams['font.family'] = 'serif'\n",
    "mpl.rcParams['axes.linewidth'] = 1.5\n",
    "mpl.rcParams['axes.xmargin'] = 1\n",
    "mpl.rcParams['xtick.labelsize'] = 'x-large'\n",
    "mpl.rcParams['xtick.major.size'] = 5\n",
    "mpl.rcParams['xtick.major.width'] = 1.5\n",
    "mpl.rcParams['ytick.labelsize'] = 'x-large'\n",
    "mpl.rcParams['ytick.major.size'] = 5\n",
    "mpl.rcParams['ytick.major.width'] = 1.5\n",
    "mpl.rcParams['legend.frameon'] = False\n",
    "%matplotlib inline"
   ]
  },
  {
   "cell_type": "code",
   "execution_count": 3,
   "metadata": {},
   "outputs": [],
   "source": [
    "X_pk = NG.X_pk_all('patchy.z1', NorS='ngc', sys='fc')\n",
    "X_gmf = NG.X_gmf_all()"
   ]
  },
  {
   "cell_type": "code",
   "execution_count": 4,
   "metadata": {},
   "outputs": [],
   "source": [
    "X_pk_meansub, _ = NG.meansub(X_pk)\n",
    "X_gmf_meansub, _ = NG.meansub(X_gmf)"
   ]
  },
  {
   "cell_type": "code",
   "execution_count": 5,
   "metadata": {},
   "outputs": [],
   "source": [
    "X_pk_w, W_pk = NG.whiten(X_pk_meansub)\n",
    "X_gmf_w, W_gmf = NG.whiten(X_gmf_meansub)"
   ]
  },
  {
   "cell_type": "code",
   "execution_count": 6,
   "metadata": {},
   "outputs": [],
   "source": [
    "n_comp_max = 30 # maximum number of components"
   ]
  },
  {
   "cell_type": "code",
   "execution_count": 7,
   "metadata": {},
   "outputs": [],
   "source": [
    "gmms_pk, bics_pk = [], [] \n",
    "for i_comp in range(1, n_comp_max+1): \n",
    "    gmm = GMix(n_components=i_comp)\n",
    "    gmm.fit(X_pk_w)\n",
    "    gmms_pk.append(gmm)\n",
    "    bics_pk.append(gmm.bic(X_pk_w))"
   ]
  },
  {
   "cell_type": "code",
   "execution_count": 8,
   "metadata": {},
   "outputs": [],
   "source": [
    "ibest_pk = np.array(bics_pk).argmin()\n",
    "gbest_pk = gmms_pk[ibest_pk]"
   ]
  },
  {
   "cell_type": "code",
   "execution_count": 9,
   "metadata": {},
   "outputs": [
    {
     "data": {
      "text/plain": [
       "Text(0,0.5,'BIC')"
      ]
     },
     "execution_count": 9,
     "metadata": {},
     "output_type": "execute_result"
    },
    {
     "data": {
      "image/png": "[encoded data removed]",
      "text/plain": [
       "<Figure size 432x288 with 1 Axes>"
      ]
     },
     "metadata": {
      "needs_background": "light"
     },
     "output_type": "display_data"
    }
   ],
   "source": [
    "fig = plt.figure()\n",
    "sub = fig.add_subplot(111)\n",
    "sub.scatter(range(1, n_comp_max+1), bics_pk)\n",
    "sub.set_xlabel('$k$ ($\\#$ of GMM components)', fontsize=25)\n",
    "sub.set_xlim([0., n_comp_max])\n",
    "sub.set_ylabel('BIC', fontsize=25)"
   ]
  },
  {
   "cell_type": "code",
   "execution_count": 10,
   "metadata": {},
   "outputs": [
    {
     "name": "stdout",
     "output_type": "stream",
     "text": [
      "1\n",
      "454488.08387788024\n",
      "2\n",
      "452783.0137234045\n",
      "3\n",
      "449934.0275796488\n",
      "4\n",
      "449780.4627094996\n",
      "5\n",
      "449144.40176198754\n",
      "6\n",
      "449840.9399386086\n",
      "7\n",
      "449869.28698959947\n",
      "8\n",
      "450258.8170397772\n",
      "9\n",
      "450449.45290037175\n",
      "10\n",
      "450599.4996390487\n",
      "11\n",
      "450951.2387750957\n",
      "12\n",
      "451265.3471469098\n",
      "13\n",
      "451588.5064925787\n",
      "14\n",
      "451867.73410604766\n",
      "15\n",
      "452235.81601896824\n",
      "16\n",
      "452656.68652507704\n",
      "17\n",
      "453010.1348398684\n",
      "18\n",
      "453308.95920044224\n",
      "19\n",
      "453644.8798467905\n",
      "20\n",
      "454057.09314222547\n",
      "21\n",
      "454447.5775937682\n",
      "22\n",
      "454871.9834848489\n",
      "23\n",
      "455126.382699778\n",
      "24\n",
      "455527.9270506478\n",
      "25\n",
      "455819.4225593067\n",
      "26\n",
      "456361.087773356\n",
      "27\n",
      "456795.31295976654\n",
      "28\n",
      "457083.9122547847\n",
      "29\n",
      "457384.31410811393\n",
      "30\n",
      "457777.01518498454\n"
     ]
    }
   ],
   "source": [
    "gmms_gmf, bics_gmf = [], [] \n",
    "for i_comp in range(1, n_comp_max+1): \n",
    "    print i_comp\n",
    "    gmm = GMix(n_components=i_comp)\n",
    "    gmm.fit(X_gmf_w)\n",
    "    bic = gmm.bic(X_gmf_w)\n",
    "    gmms_gmf.append(gmm)\n",
    "    bics_gmf.append(gmm.bic(X_gmf_w))"
   ]
  },
  {
   "cell_type": "code",
   "execution_count": 11,
   "metadata": {},
   "outputs": [],
   "source": [
    "ibest_gmf = np.array(bics_gmf).argmin()\n",
    "gbest_gmf = gmms_gmf[ibest_gmf]"
   ]
  },
  {
   "cell_type": "code",
   "execution_count": 13,
   "metadata": {},
   "outputs": [
    {
     "data": {
      "text/plain": [
       "5"
      ]
     },
     "execution_count": 13,
     "metadata": {},
     "output_type": "execute_result"
    }
   ],
   "source": [
    "gbest_gmf.n_components"
   ]
  },
  {
   "cell_type": "code",
   "execution_count": 12,
   "metadata": {},
   "outputs": [
    {
     "data": {
      "text/plain": [
       "Text(0,0.5,'BIC')"
      ]
     },
     "execution_count": 12,
     "metadata": {},
     "output_type": "execute_result"
    },
    {
     "data": {
      "image/png": "[encoded data removed]",
      "text/plain": [
       "<Figure size 432x288 with 1 Axes>"
      ]
     },
     "metadata": {
      "needs_background": "light"
     },
     "output_type": "display_data"
    }
   ],
   "source": [
    "fig = plt.figure()\n",
    "sub = fig.add_subplot(111)\n",
    "sub.scatter(range(1, n_comp_max+1), bics_gmf)\n",
    "sub.set_xlabel('$k$ ($\\#$ of GMM components)', fontsize=25)\n",
    "sub.set_xlim([0., n_comp_max])\n",
    "sub.set_ylabel('BIC', fontsize=25)"
   ]
  },
  {
   "cell_type": "code",
   "execution_count": null,
   "metadata": {},
   "outputs": [],
   "source": []
  }
 ],
 "metadata": {
  "kernelspec": {
   "display_name": "Python 2",
   "language": "python",
   "name": "python2"
  },
  "language_info": {
   "codemirror_mode": {
    "name": "ipython",
    "version": 2
   },
   "file_extension": ".py",
   "mimetype": "text/x-python",
   "name": "python",
   "nbconvert_exporter": "python",
   "pygments_lexer": "ipython2",
   "version": "2.7.15"
  }
 },
 "nbformat": 4,
 "nbformat_minor": 2
}
