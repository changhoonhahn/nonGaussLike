{
 "cells": [
  {
   "cell_type": "markdown",
   "metadata": {},
   "source": [
    "In Wang et al. (2009) they estimate the divergence starting from the estimate\n",
    "$$KL(p||q) \\approx \\frac{1}{n} \\sum\\limits_{i=1}^n \\log \\frac{\\hat{p}(X_i)}{\\hat{q}(X_i)}$$ \n",
    "They they estimate $\\hat{p}(X_i)$ and $\\hat{q}(X_i)$ using the $k$ Nearest Neighbor method to ultimately get\n",
    "$$KL(p||q) \\approx = \\frac{d}{n} \\sum\\limits_{i=1}^n \\log \\frac{\\nu_k(i)}{\\rho_k(X_i)} + \\log \\frac{m}{n-1}$$\n",
    "__However in our case, we don't need to estimate $\\hat{q}(X_i)$ since $q$ in our case is just a multivariate Gaussian.__\n",
    "\n",
    "In this notebook I will implement the new KL estimator and verify that it works for a handful of cases"
   ]
  },
  {
   "cell_type": "code",
   "execution_count": 1,
   "metadata": {},
   "outputs": [],
   "source": [
    "import numpy as np\n",
    "from scipy.special import gamma as Gamma\n",
    "from scipy.special import gammaln as GammaLn\n",
    "from numpy.random import multivariate_normal as mvn \n",
    "from scipy.stats import multivariate_normal as multinorm\n",
    "#\n",
    "from sklearn.neighbors import NearestNeighbors\n",
    "# -- nonGaussLike -- \n",
    "from nongausslike import knn as kNN\n",
    "from nongausslike import nongauss as NG"
   ]
  },
  {
   "cell_type": "code",
   "execution_count": 2,
   "metadata": {},
   "outputs": [],
   "source": [
    "import matplotlib as mpl \n",
    "import matplotlib.pyplot as plt\n",
    "mpl.rcParams['text.usetex'] = True\n",
    "mpl.rcParams['font.family'] = 'serif'\n",
    "mpl.rcParams['axes.linewidth'] = 1.5\n",
    "mpl.rcParams['axes.xmargin'] = 1\n",
    "mpl.rcParams['xtick.labelsize'] = 'x-large'\n",
    "mpl.rcParams['xtick.major.size'] = 5\n",
    "mpl.rcParams['xtick.major.width'] = 1.5\n",
    "mpl.rcParams['ytick.labelsize'] = 'x-large'\n",
    "mpl.rcParams['ytick.major.size'] = 5\n",
    "mpl.rcParams['ytick.major.width'] = 1.5\n",
    "mpl.rcParams['legend.frameon'] = False\n",
    "%matplotlib inline"
   ]
  },
  {
   "cell_type": "code",
   "execution_count": 3,
   "metadata": {},
   "outputs": [],
   "source": [
    "def c_1(d): \n",
    "    return np.pi**(0.5 * float(d)) / Gamma(0.5*float(d)+1)"
   ]
  },
  {
   "cell_type": "code",
   "execution_count": 4,
   "metadata": {},
   "outputs": [],
   "source": [
    "def hat_p(X, k=10): \n",
    "    n, d = X.shape # n and dimensions\n",
    "    k, n, d = float(k), float(n), float(d)\n",
    "\n",
    "    # kNN term\n",
    "    NN_X = NearestNeighbors(n_neighbors=int(k)).fit(X)\n",
    "    dNN_XX, _ = NN_X.kneighbors(X, n_neighbors=int(k)+1) # k+1 to exclude itself\n",
    "    rho_k_i = dNN_XX[:,-1]\n",
    "    \n",
    "    return k/(n-1) * 1 / (c_1(d) * rho_k_i**d)"
   ]
  },
  {
   "cell_type": "code",
   "execution_count": 5,
   "metadata": {},
   "outputs": [],
   "source": [
    "def KL_Xq(X, q, k=10): \n",
    "    ''' X is a matrix, k is float, q is a function \n",
    "    '''\n",
    "    try: \n",
    "        n, d = X.shape\n",
    "    except ValueError: \n",
    "        n, d = X.reshape(-1,1).shape\n",
    "\n",
    "    p_Xi = hat_p(X, k=k)\n",
    "    q_Xi = q(X)\n",
    "    return np.sum(np.log(p_Xi) - np.log(q_Xi))/n"
   ]
  },
  {
   "cell_type": "code",
   "execution_count": 22,
   "metadata": {},
   "outputs": [],
   "source": [
    "ns = np.array([1e2, 1e3, 2e3, 3e3, 4e3, 1e4])#, 1e5])\n",
    "ns = ns.astype(int)"
   ]
  },
  {
   "cell_type": "code",
   "execution_count": 7,
   "metadata": {},
   "outputs": [],
   "source": [
    "qX = lambda x: multinorm.pdf(x, mean=0., cov=1.)\n",
    "kls = [] \n",
    "for n in ns: \n",
    "    Xn = np.random.normal(0., 1., size=int(n))#mvn([0.], [1.], size=int(n))\n",
    "    kls.append(KL_Xq(Xn.reshape(-1,1), qX, k=50))"
   ]
  },
  {
   "cell_type": "code",
   "execution_count": 8,
   "metadata": {},
   "outputs": [
    {
     "data": {
      "text/plain": [
       "[<matplotlib.lines.Line2D at 0x108f3fb90>]"
      ]
     },
     "execution_count": 8,
     "metadata": {},
     "output_type": "execute_result"
    },
    {
     "data": {
      "image/png": "[encoded data removed]",
      "text/plain": [
       "<Figure size 432x288 with 1 Axes>"
      ]
     },
     "metadata": {
      "needs_background": "light"
     },
     "output_type": "display_data"
    }
   ],
   "source": [
    "fig = plt.figure()\n",
    "sub = fig.add_subplot(111)\n",
    "sub.plot(ns, kls)\n",
    "sub.set_xlim([1e2, 1e5])\n",
    "sub.set_xscale(\"log\")\n",
    "sub.plot(sub.get_xlim(), [0., 0.], c='k', lw=2, ls='--')"
   ]
  },
  {
   "cell_type": "code",
   "execution_count": 9,
   "metadata": {},
   "outputs": [],
   "source": [
    "mu_p = np.array([0.1, 0.3, 0.6, 0.9])\n",
    "mu_q = np.array([0., 0., 0., 0.])\n",
    "cov_p = np.identity(len(mu_p))\n",
    "cov_q = np.identity(len(mu_p))\n",
    "for i in range(len(mu_p)): \n",
    "    for j in range(len(mu_p)): \n",
    "        if i != j: \n",
    "            cov_p[i,j] = 0.5\n",
    "            cov_q[i,j] = 0.1"
   ]
  },
  {
   "cell_type": "code",
   "execution_count": 10,
   "metadata": {},
   "outputs": [],
   "source": [
    "qX = lambda x: multinorm.pdf(x, mean=mu_p, cov=cov_p)\n",
    "kls = [] \n",
    "for n in ns: \n",
    "    Xn = mvn(mu_p, cov_p, size=int(n))\n",
    "    kls.append(KL_Xq(Xn, qX, k=50))"
   ]
  },
  {
   "cell_type": "code",
   "execution_count": 11,
   "metadata": {},
   "outputs": [
    {
     "data": {
      "text/plain": [
       "[<matplotlib.lines.Line2D at 0x1a1e8dec50>]"
      ]
     },
     "execution_count": 11,
     "metadata": {},
     "output_type": "execute_result"
    },
    {
     "data": {
      "image/png": "[encoded data removed]",
      "text/plain": [
       "<Figure size 432x288 with 1 Axes>"
      ]
     },
     "metadata": {
      "needs_background": "light"
     },
     "output_type": "display_data"
    }
   ],
   "source": [
    "fig = plt.figure()\n",
    "sub = fig.add_subplot(111)\n",
    "sub.plot(ns, kls)\n",
    "sub.set_xlim([1e2, 1e5])\n",
    "sub.set_xscale(\"log\")\n",
    "sub.plot(sub.get_xlim(), [0., 0.], c='k', lw=2, ls='--')"
   ]
  },
  {
   "cell_type": "code",
   "execution_count": 12,
   "metadata": {},
   "outputs": [],
   "source": [
    "qX = lambda x: multinorm.pdf(x, mean=mu_q, cov=cov_q)\n",
    "kls = [] \n",
    "for n in ns: \n",
    "    Xn = mvn(mu_p, cov_p, size=int(n))\n",
    "    kls.append(KL_Xq(Xn, qX, k=50))"
   ]
  },
  {
   "cell_type": "code",
   "execution_count": 13,
   "metadata": {},
   "outputs": [
    {
     "data": {
      "text/plain": [
       "[<matplotlib.lines.Line2D at 0x1a1edc5e10>]"
      ]
     },
     "execution_count": 13,
     "metadata": {},
     "output_type": "execute_result"
    },
    {
     "data": {
      "image/png": "[encoded data removed]",
      "text/plain": [
       "<Figure size 432x288 with 1 Axes>"
      ]
     },
     "metadata": {
      "needs_background": "light"
     },
     "output_type": "display_data"
    }
   ],
   "source": [
    "fig = plt.figure()\n",
    "sub = fig.add_subplot(111)\n",
    "sub.plot(ns, kls)\n",
    "sub.set_xlim([1e2, 1e5])\n",
    "sub.set_xscale(\"log\")\n",
    "sub.plot(sub.get_xlim(), [0.9009, 0.9009], c='k', lw=2, ls='--')"
   ]
  },
  {
   "cell_type": "code",
   "execution_count": 98,
   "metadata": {},
   "outputs": [],
   "source": [
    "mu_p = np.zeros(20)\n",
    "mu_q = np.zeros(20)\n",
    "cov_p = np.identity(len(mu_p))\n",
    "cov_q = np.identity(len(mu_p))\n",
    "for i in range(len(mu_p)): \n",
    "    for j in range(len(mu_p)): \n",
    "        if i != j: \n",
    "            cov_p[i,j] = 0.2\n",
    "            cov_q[i,j] = 0.2"
   ]
  },
  {
   "cell_type": "code",
   "execution_count": 99,
   "metadata": {},
   "outputs": [],
   "source": [
    "qX = lambda x: multinorm.pdf(x, mean=mu_q, cov=cov_q)"
   ]
  },
  {
   "cell_type": "code",
   "execution_count": 101,
   "metadata": {},
   "outputs": [
    {
     "data": {
      "text/plain": [
       "(-5.0, 1)"
      ]
     },
     "execution_count": 101,
     "metadata": {},
     "output_type": "execute_result"
    },
    {
     "data": {
      "image/png": "[encoded data removed]",
      "text/plain": [
       "<Figure size 432x288 with 1 Axes>"
      ]
     },
     "metadata": {
      "needs_background": "light"
     },
     "output_type": "display_data"
    }
   ],
   "source": [
    "fig = plt.figure()\n",
    "sub = fig.add_subplot(111)\n",
    "for k in [1, 3, 5, 10]: \n",
    "    kls = [] \n",
    "    for n in ns: \n",
    "        Xn = mvn(mu_p, cov_p, size=int(n))\n",
    "        kls.append(KL_Xq(Xn, qX, k=k))\n",
    "    sub.plot(ns, kls, label=r'$k='+str(k)+'$')\n",
    "sub.legend(loc='lower right')\n",
    "sub.set_xlim([1e2, 1e4])\n",
    "sub.set_xscale(\"log\")\n",
    "sub.plot(sub.get_xlim(), [0., 0.], c='k', lw=2, ls='--')\n",
    "sub.set_ylim([-5., 1])"
   ]
  },
  {
   "cell_type": "code",
   "execution_count": 39,
   "metadata": {},
   "outputs": [],
   "source": [
    "def hat_q(X, Y, k=1): \n",
    "    _, d = X.shape # n and dimensions\n",
    "    m, _ = Y.shape \n",
    "    k, m, d = float(k), float(m), float(d)\n",
    "\n",
    "    # kNN term\n",
    "    NN_Y = NearestNeighbors(n_neighbors=int(k)).fit(Y)\n",
    "    dNN_XY, _ = NN_Y.kneighbors(X, n_neighbors=int(k)) # k+1 to exclude itself\n",
    "    nu_k_i = dNN_XY[:,-1]\n",
    "    \n",
    "    return k/m * 1 / (c_1(d) * nu_k_i**d)"
   ]
  },
  {
   "cell_type": "code",
   "execution_count": 61,
   "metadata": {},
   "outputs": [
    {
     "name": "stdout",
     "output_type": "stream",
     "text": [
      "-27.01545394070335\n"
     ]
    }
   ],
   "source": [
    "qX = lambda x: multinorm.pdf(x, mean=mu_q, cov=cov_q)"
   ]
  },
  {
   "cell_type": "code",
   "execution_count": 95,
   "metadata": {},
   "outputs": [],
   "source": [
    "n = 10000 \n",
    "Xn = mvn(mu_p, cov_p, size=n)\n",
    "qX = lambda x: multinorm.pdf(x, mean=mu_q, cov=cov_q)\n",
    "\n",
    "log_q_n = []\n",
    "log_q_n_1NN = [] \n",
    "log_q_n_3NN = [] \n",
    "log_q_n_5NN = [] \n",
    "log_q_n_10NN = []\n",
    "log_q_n_20NN = []\n",
    "\n",
    "for m in ns: \n",
    "    Ym = mvn(mu_q, cov_q, size=m)\n",
    "\n",
    "    hat_q_1NN = hat_q(Xn, Ym, k=1)\n",
    "    hat_q_3NN = hat_q(Xn, Ym, k=3)\n",
    "    hat_q_5NN = hat_q(Xn, Ym, k=5)\n",
    "    hat_q_10NN = hat_q(Xn, Ym, k=10)\n",
    "    hat_q_20NN = hat_q(Xn, Ym, k=20)\n",
    "\n",
    "    log_q_n.append(np.sum(np.log(qX(Xn)))/float(n))\n",
    "    log_q_n_1NN.append(np.sum(np.log(hat_q_1NN))/float(n))\n",
    "    log_q_n_3NN.append(np.sum(np.log(hat_q_3NN))/float(n))\n",
    "    log_q_n_5NN.append(np.sum(np.log(hat_q_5NN))/float(n))\n",
    "    log_q_n_10NN.append(np.sum(np.log(hat_q_10NN))/float(n))\n",
    "    log_q_n_20NN.append(np.sum(np.log(hat_q_20NN))/float(n))"
   ]
  },
  {
   "cell_type": "code",
   "execution_count": 96,
   "metadata": {},
   "outputs": [
    {
     "data": {
      "text/plain": [
       "(-30.0, -25)"
      ]
     },
     "execution_count": 96,
     "metadata": {},
     "output_type": "execute_result"
    },
    {
     "data": {
      "image/png": "[encoded data removed]",
      "text/plain": [
       "<Figure size 432x288 with 1 Axes>"
      ]
     },
     "metadata": {
      "needs_background": "light"
     },
     "output_type": "display_data"
    }
   ],
   "source": [
    "fig = plt.figure()\n",
    "sub = fig.add_subplot(111)\n",
    "sub.plot(ns, log_q_n, color='k', linestyle='--')\n",
    "sub.plot(ns, log_q_n_1NN)\n",
    "sub.plot(ns, log_q_n_3NN)\n",
    "sub.plot(ns, log_q_n_5NN)\n",
    "sub.plot(ns, log_q_n_10NN)\n",
    "sub.plot(ns, log_q_n_20NN)\n",
    "sub.set_xlim([ns[0], ns[-1]])\n",
    "sub.set_ylim([-30., -25])"
   ]
  },
  {
   "cell_type": "code",
   "execution_count": 92,
   "metadata": {},
   "outputs": [],
   "source": [
    "from scipy.special import digamma"
   ]
  },
  {
   "cell_type": "code",
   "execution_count": 97,
   "metadata": {},
   "outputs": [
    {
     "data": {
      "text/plain": [
       "(-30, -25)"
      ]
     },
     "execution_count": 97,
     "metadata": {},
     "output_type": "execute_result"
    },
    {
     "data": {
      "image/png": "[encoded data removed]",
      "text/plain": [
       "<Figure size 432x288 with 1 Axes>"
      ]
     },
     "metadata": {
      "needs_background": "light"
     },
     "output_type": "display_data"
    }
   ],
   "source": [
    "fig = plt.figure()\n",
    "sub = fig.add_subplot(111)\n",
    "sub.plot(ns, log_q_n, color='k', linestyle='--')\n",
    "sub.plot(ns, log_q_n_1NN + digamma(1.))# - np.log(1) + np.log(c_1(Xn.shape[1])))\n",
    "sub.plot(ns, log_q_n_3NN + digamma(3.))# - np.log(3) + np.log(c_1(Xn.shape[1])))\n",
    "sub.plot(ns, log_q_n_5NN + digamma(5.))# - np.log(5) + np.log(c_1(Xn.shape[1])))\n",
    "sub.plot(ns, log_q_n_10NN + digamma(10.))# - np.log(10) + np.log(c_1(Xn.shape[1])))\n",
    "sub.plot(ns, log_q_n_20NN + digamma(20.))# - np.log(10) + np.log(c_1(Xn.shape[1])))\n",
    "sub.set_xlim([ns[0], ns[-1]])\n",
    "sub.set_ylim([-30, -25])"
   ]
  },
  {
   "cell_type": "code",
   "execution_count": 102,
   "metadata": {},
   "outputs": [],
   "source": [
    "X_pk = NG.X_pk_all('patchy.z1', NorS='ngc', sys='fc')\n",
    "X_res, _ = NG.meansub(X_pk)\n",
    "X_w, W = NG.whiten(X_res)\n",
    "C_x = np.cov(X_w.T)"
   ]
  },
  {
   "cell_type": "code",
   "execution_count": 103,
   "metadata": {},
   "outputs": [
    {
     "name": "stdout",
     "output_type": "stream",
     "text": [
      "37 dimensional data with 2048 samples\n"
     ]
    }
   ],
   "source": [
    "n, dim = X_pk.shape\n",
    "print(\"%i dimensional data with %i samples\" % (dim, n))"
   ]
  },
  {
   "cell_type": "code",
   "execution_count": 106,
   "metadata": {},
   "outputs": [],
   "source": [
    "# reference Gaussian X \n",
    "X_ref = mvn(np.zeros(dim), C_x, size=n)\n",
    "qX_ref = lambda x: multinorm.pdf(x, mean=np.zeros(dim), cov=C_x)"
   ]
  },
  {
   "cell_type": "code",
   "execution_count": 116,
   "metadata": {},
   "outputs": [
    {
     "data": {
      "text/plain": [
       "-16.683583620747193"
      ]
     },
     "execution_count": 116,
     "metadata": {},
     "output_type": "execute_result"
    }
   ],
   "source": [
    "np.log(c_1(37))"
   ]
  },
  {
   "cell_type": "code",
   "execution_count": 114,
   "metadata": {},
   "outputs": [
    {
     "name": "stdout",
     "output_type": "stream",
     "text": [
      "[-3.1652870415329124, -2.7141724451793054, -2.509943752859428, -2.24142704502771, -2.0217724908641417]\n",
      "[-3.337744568369356, -2.8891504564431534, -2.64665225525089, -2.3563678925336276, -2.125111293764273]\n"
     ]
    },
    {
     "data": {
      "text/plain": [
       "(-5.0, 1)"
      ]
     },
     "execution_count": 114,
     "metadata": {},
     "output_type": "execute_result"
    },
    {
     "data": {
      "image/png": "[encoded data removed]",
      "text/plain": [
       "<Figure size 432x288 with 1 Axes>"
      ]
     },
     "metadata": {
      "needs_background": "light"
     },
     "output_type": "display_data"
    }
   ],
   "source": [
    "fig = plt.figure()\n",
    "sub = fig.add_subplot(111)\n",
    "kls = []\n",
    "for k in [1, 3, 5, 10, 20]: \n",
    "    kls.append(KL_Xq(X_ref, qX_ref, k=k) + digamma(k))\n",
    "sub.plot([1, 3, 5, 10, 20], kls)\n",
    "print kls\n",
    "\n",
    "kls = []\n",
    "for k in [1, 3, 5, 10, 20]: \n",
    "    kls.append(KL_Xq(X_w, qX_ref, k=k) + digamma(k))\n",
    "sub.plot([1, 3, 5, 10, 20], kls)\n",
    "print kls\n",
    "\n",
    "sub.legend(loc='lower right')\n",
    "sub.set_xlim([1, 20])\n",
    "sub.plot(sub.get_xlim(), [0., 0.], c='k', lw=2, ls='--')\n",
    "sub.set_ylim([-5., 1])"
   ]
  },
  {
   "cell_type": "code",
   "execution_count": 117,
   "metadata": {},
   "outputs": [],
   "source": [
    "from scipy.special import gamma"
   ]
  },
  {
   "cell_type": "code",
   "execution_count": 118,
   "metadata": {},
   "outputs": [
    {
     "data": {
      "text/plain": [
       "0.5"
      ]
     },
     "execution_count": 118,
     "metadata": {},
     "output_type": "execute_result"
    }
   ],
   "source": [
    "gamma(5)**2/(gamma(4)*gamma(3))"
   ]
  },
  {
   "cell_type": "code",
   "execution_count": null,
   "metadata": {},
   "outputs": [],
   "source": []
  }
 ],
 "metadata": {
  "kernelspec": {
   "display_name": "Python 2",
   "language": "python",
   "name": "python2"
  },
  "language_info": {
   "codemirror_mode": {
    "name": "ipython",
    "version": 2
   },
   "file_extension": ".py",
   "mimetype": "text/x-python",
   "name": "python",
   "nbconvert_exporter": "python",
   "pygments_lexer": "ipython2",
   "version": "2.7.15"
  }
 },
 "nbformat": 4,
 "nbformat_minor": 2
}
