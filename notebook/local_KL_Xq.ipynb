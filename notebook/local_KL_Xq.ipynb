{
 "cells": [
  {
   "cell_type": "markdown",
   "metadata": {},
   "source": [
    "In Wang et al. (2009) they estimate the divergence starting from the estimate\n",
    "$$KL(p||q) \\approx \\frac{1}{n} \\sum\\limits_{i=1}^n \\log \\frac{\\hat{p}(X_i)}{\\hat{q}(X_i)}$$ \n",
    "They they estimate $\\hat{p}(X_i)$ and $\\hat{q}(X_i)$ using the $k$ Nearest Neighbor method to ultimately get\n",
    "$$KL(p||q) \\approx = \\frac{d}{n} \\sum\\limits_{i=1}^n \\log \\frac{\\nu_k(i)}{\\rho_k(X_i)} + \\log \\frac{m}{n-1}$$\n",
    "__However in our case, we don't need to estimate $\\hat{q}(X_i)$ since $q$ in our case is just a multivariate Gaussian.__\n",
    "\n",
    "In this notebook I will implement the new KL estimator and verify that it works for a handful of cases"
   ]
  },
  {
   "cell_type": "code",
   "execution_count": 1,
   "metadata": {},
   "outputs": [],
   "source": [
    "import numpy as np\n",
    "from numpy.random import multivariate_normal as mvn \n",
    "from scipy.stats import multivariate_normal as multinorm\n",
    "# -- nonGaussLike -- \n",
    "from nongausslike import knn as kNN\n",
    "from nongausslike import nongauss as NG"
   ]
  },
  {
   "cell_type": "code",
   "execution_count": 2,
   "metadata": {},
   "outputs": [],
   "source": [
    "import matplotlib as mpl \n",
    "import matplotlib.pyplot as plt\n",
    "mpl.rcParams['text.usetex'] = True\n",
    "mpl.rcParams['font.family'] = 'serif'\n",
    "mpl.rcParams['axes.linewidth'] = 1.5\n",
    "mpl.rcParams['axes.xmargin'] = 1\n",
    "mpl.rcParams['xtick.labelsize'] = 'x-large'\n",
    "mpl.rcParams['xtick.major.size'] = 5\n",
    "mpl.rcParams['xtick.major.width'] = 1.5\n",
    "mpl.rcParams['ytick.labelsize'] = 'x-large'\n",
    "mpl.rcParams['ytick.major.size'] = 5\n",
    "mpl.rcParams['ytick.major.width'] = 1.5\n",
    "mpl.rcParams['legend.frameon'] = False\n",
    "%matplotlib inline"
   ]
  },
  {
   "cell_type": "code",
   "execution_count": null,
   "metadata": {},
   "outputs": [],
   "source": [
    "def KL_Xq(X, k): \n",
    "    n, d = X.shape # n and dimensions\n",
    "    "
   ]
  }
 ],
 "metadata": {
  "kernelspec": {
   "display_name": "Python 2",
   "language": "python",
   "name": "python2"
  },
  "language_info": {
   "codemirror_mode": {
    "name": "ipython",
    "version": 2
   },
   "file_extension": ".py",
   "mimetype": "text/x-python",
   "name": "python",
   "nbconvert_exporter": "python",
   "pygments_lexer": "ipython2",
   "version": "2.7.15"
  }
 },
 "nbformat": 4,
 "nbformat_minor": 2
}
