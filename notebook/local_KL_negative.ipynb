{
 "cells": [
  {
   "cell_type": "code",
   "execution_count": 2,
   "metadata": {},
   "outputs": [],
   "source": [
    "import numpy as np \n",
    "from numpy.random import multivariate_normal as mvn \n",
    "# -- nonGaussLike -- \n",
    "from nongausslike import nongauss as NG"
   ]
  },
  {
   "cell_type": "code",
   "execution_count": 14,
   "metadata": {},
   "outputs": [],
   "source": [
    "import matplotlib as mpl \n",
    "import matplotlib.pyplot as pl \n",
    "mpl.rcParams['text.usetex'] = True\n",
    "mpl.rcParams['font.family'] = 'serif'\n",
    "mpl.rcParams['axes.linewidth'] = 1.5\n",
    "mpl.rcParams['axes.xmargin'] = 1\n",
    "mpl.rcParams['xtick.labelsize'] = 'x-large'\n",
    "mpl.rcParams['xtick.major.size'] = 5\n",
    "mpl.rcParams['xtick.major.width'] = 1.5\n",
    "mpl.rcParams['ytick.labelsize'] = 'x-large'\n",
    "mpl.rcParams['ytick.major.size'] = 5\n",
    "mpl.rcParams['ytick.major.width'] = 1.5\n",
    "mpl.rcParams['legend.frameon'] = False\n",
    "%matplotlib inline"
   ]
  },
  {
   "cell_type": "markdown",
   "metadata": {},
   "source": [
    "Lets calculate\n",
    "$$KL(X_{1:n} || Y_{1:m})$$"
   ]
  },
  {
   "cell_type": "code",
   "execution_count": 66,
   "metadata": {},
   "outputs": [],
   "source": [
    "dim = 8\n",
    "n, m = 1000, 100\n",
    "Cov = np.identity(dim) * 5.\n",
    "X = mvn(np.zeros(dim), Cov, size=n)"
   ]
  },
  {
   "cell_type": "code",
   "execution_count": 67,
   "metadata": {},
   "outputs": [
    {
     "name": "stdout",
     "output_type": "stream",
     "text": [
      "-2.301584592660462\n"
     ]
    }
   ],
   "source": [
    "print np.log(float(m)/float(n-1))"
   ]
  },
  {
   "cell_type": "code",
   "execution_count": 68,
   "metadata": {},
   "outputs": [],
   "source": [
    "kls = []\n",
    "for i in range(100): \n",
    "    Y = mvn(np.zeros(dim), Cov, size=m)\n",
    "    kl = NG.kNNdiv_gauss(X, Cov, Knn=2, div_func='kl', gauss=Y)\n",
    "    kls.append(kl)"
   ]
  },
  {
   "cell_type": "code",
   "execution_count": 69,
   "metadata": {},
   "outputs": [
    {
     "data": {
      "text/plain": [
       "(array([ 2.,  7., 17., 21., 22., 14.,  8.,  6.,  1.,  2.]),\n",
       " array([-0.02372705,  0.02395947,  0.071646  ,  0.11933252,  0.16701905,\n",
       "         0.21470557,  0.2623921 ,  0.31007863,  0.35776515,  0.40545168,\n",
       "         0.4531382 ]),\n",
       " <a list of 10 Patch objects>)"
      ]
     },
     "execution_count": 69,
     "metadata": {},
     "output_type": "execute_result"
    },
    {
     "data": {
      "image/png": "[encoded data removed]",
      "text/plain": [
       "<Figure size 432x288 with 1 Axes>"
      ]
     },
     "metadata": {
      "needs_background": "light"
     },
     "output_type": "display_data"
    }
   ],
   "source": [
    "plt.hist(kls)"
   ]
  },
  {
   "cell_type": "code",
   "execution_count": 70,
   "metadata": {},
   "outputs": [
    {
     "data": {
      "text/plain": [
       "(array([ 1., 11., 10., 20., 23., 14.,  9.,  6.,  4.,  2.]),\n",
       " array([0.06735394, 0.10982463, 0.15229533, 0.19476602, 0.23723671,\n",
       "        0.27970741, 0.3221781 , 0.36464879, 0.40711948, 0.44959018,\n",
       "        0.49206087]),\n",
       " <a list of 10 Patch objects>)"
      ]
     },
     "execution_count": 70,
     "metadata": {},
     "output_type": "execute_result"
    },
    {
     "data": {
      "image/png": "[encoded data removed]",
      "text/plain": [
       "<Figure size 432x288 with 1 Axes>"
      ]
     },
     "metadata": {
      "needs_background": "light"
     },
     "output_type": "display_data"
    }
   ],
   "source": [
    "kls = []\n",
    "for i in range(100): \n",
    "    Y = mvn(np.zeros(dim), Cov, size=m)\n",
    "    kl = NG.kNNdiv_gauss(X, Cov, Knn=4, div_func='kl', gauss=Y)\n",
    "    kls.append(kl)\n",
    "plt.hist(kls)"
   ]
  },
  {
   "cell_type": "code",
   "execution_count": 71,
   "metadata": {},
   "outputs": [
    {
     "data": {
      "text/plain": [
       "(array([ 2.,  4., 13., 13., 15., 25., 15.,  9.,  3.,  1.]),\n",
       " array([0.13990469, 0.18503925, 0.2301738 , 0.27530836, 0.32044291,\n",
       "        0.36557747, 0.41071202, 0.45584658, 0.50098113, 0.54611569,\n",
       "        0.59125024]),\n",
       " <a list of 10 Patch objects>)"
      ]
     },
     "execution_count": 71,
     "metadata": {},
     "output_type": "execute_result"
    },
    {
     "data": {
      "image/png": "[encoded data removed]",
      "text/plain": [
       "<Figure size 432x288 with 1 Axes>"
      ]
     },
     "metadata": {
      "needs_background": "light"
     },
     "output_type": "display_data"
    }
   ],
   "source": [
    "kls = []\n",
    "for i in range(100): \n",
    "    Y = mvn(np.zeros(dim), Cov, size=m)\n",
    "    kl = NG.kNNdiv_gauss(X, Cov, Knn=8, div_func='kl', gauss=Y)\n",
    "    kls.append(kl)\n",
    "plt.hist(kls)"
   ]
  },
  {
   "cell_type": "code",
   "execution_count": null,
   "metadata": {},
   "outputs": [],
   "source": []
  },
  {
   "cell_type": "code",
   "execution_count": 72,
   "metadata": {},
   "outputs": [
    {
     "data": {
      "text/plain": [
       "(array([ 9., 13., 17., 19.,  8., 11., 10.,  7.,  3.,  3.]),\n",
       " array([0.02798557, 0.03554523, 0.04310488, 0.05066454, 0.0582242 ,\n",
       "        0.06578385, 0.07334351, 0.08090317, 0.08846282, 0.09602248,\n",
       "        0.10358214]),\n",
       " <a list of 10 Patch objects>)"
      ]
     },
     "execution_count": 72,
     "metadata": {},
     "output_type": "execute_result"
    },
    {
     "data": {
      "image/png": "[encoded data removed]",
      "text/plain": [
       "<Figure size 432x288 with 1 Axes>"
      ]
     },
     "metadata": {
      "needs_background": "light"
     },
     "output_type": "display_data"
    }
   ],
   "source": [
    "n, m = 10000, 1000\n",
    "Cov = np.identity(dim) * 5.\n",
    "X = mvn(np.zeros(dim), Cov, size=n)\n",
    "kls = []\n",
    "for i in range(100): \n",
    "    Y = mvn(np.zeros(dim), Cov, size=m)\n",
    "    kl = NG.kNNdiv_gauss(X, Cov, Knn=4, div_func='kl', gauss=Y)\n",
    "    kls.append(kl)\n",
    "plt.hist(kls)"
   ]
  },
  {
   "cell_type": "code",
   "execution_count": null,
   "metadata": {},
   "outputs": [],
   "source": []
  }
 ],
 "metadata": {
  "kernelspec": {
   "display_name": "Python 2",
   "language": "python",
   "name": "python2"
  },
  "language_info": {
   "codemirror_mode": {
    "name": "ipython",
    "version": 2
   },
   "file_extension": ".py",
   "mimetype": "text/x-python",
   "name": "python",
   "nbconvert_exporter": "python",
   "pygments_lexer": "ipython2",
   "version": "2.7.14"
  }
 },
 "nbformat": 4,
 "nbformat_minor": 2
}
