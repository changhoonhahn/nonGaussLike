{
 "cells": [
  {
   "cell_type": "code",
   "execution_count": 1,
   "metadata": {},
   "outputs": [],
   "source": [
    "import numpy as np\n",
    "from scipy.special import gamma as Gamma\n",
    "from scipy.special import gammaln as GammaLn\n",
    "from numpy.random import multivariate_normal as mvn \n",
    "from scipy.stats import multivariate_normal as multinorm\n",
    "#\n",
    "from sklearn.neighbors import NearestNeighbors\n",
    "# -- nonGaussLike -- \n",
    "from nongausslike import knn as kNN\n",
    "from nongausslike import nongauss as NG"
   ]
  },
  {
   "cell_type": "code",
   "execution_count": 2,
   "metadata": {},
   "outputs": [],
   "source": [
    "import matplotlib as mpl \n",
    "import matplotlib.pyplot as plt\n",
    "mpl.rcParams['text.usetex'] = True\n",
    "mpl.rcParams['font.family'] = 'serif'\n",
    "mpl.rcParams['axes.linewidth'] = 1.5\n",
    "mpl.rcParams['axes.xmargin'] = 1\n",
    "mpl.rcParams['xtick.labelsize'] = 'x-large'\n",
    "mpl.rcParams['xtick.major.size'] = 5\n",
    "mpl.rcParams['xtick.major.width'] = 1.5\n",
    "mpl.rcParams['ytick.labelsize'] = 'x-large'\n",
    "mpl.rcParams['ytick.major.size'] = 5\n",
    "mpl.rcParams['ytick.major.width'] = 1.5\n",
    "mpl.rcParams['legend.frameon'] = False\n",
    "%matplotlib inline"
   ]
  },
  {
   "cell_type": "code",
   "execution_count": 3,
   "metadata": {},
   "outputs": [],
   "source": [
    "def avgKL_XY_SKL(X, m, k, n_sample=10, Cov=None): \n",
    "    d = X.shape[1]\n",
    "    _kl = []\n",
    "    for i in range(n_sample): \n",
    "        Y = mvn(np.zeros(d), Cov, size=m)\n",
    "        _kl.append(NG.kNNdiv_gauss(X, None, Knn=k, div_func='kl', gauss=Y))\n",
    "    return np.average(_kl)"
   ]
  },
  {
   "cell_type": "code",
   "execution_count": 11,
   "metadata": {},
   "outputs": [],
   "source": [
    "def avgRenyi_XY_SKL(X, m, k, alpha=0.99, n_sample=10, Cov=None): \n",
    "    d = X.shape[1]\n",
    "    _kl = []\n",
    "    for i in range(n_sample): \n",
    "        Y = mvn(np.zeros(d), Cov, size=m)\n",
    "        _kl.append(NG.kNNdiv_gauss(X, None, Knn=k, div_func='renyi:0.99', gauss=Y))\n",
    "    return np.average(_kl)"
   ]
  },
  {
   "cell_type": "code",
   "execution_count": 5,
   "metadata": {},
   "outputs": [
    {
     "name": "stdout",
     "output_type": "stream",
     "text": [
      "37 dimensional data with 2048 samples\n"
     ]
    }
   ],
   "source": [
    "X_pk = NG.X_pk_all('patchy.z1', NorS='ngc', sys='fc')\n",
    "n, dim = X_pk.shape\n",
    "print(\"%i dimensional data with %i samples\" % (dim, n))\n",
    "\n",
    "X_res, _ = NG.meansub(X_pk)\n",
    "X_w, W = NG.whiten(X_res)\n",
    "C_x = np.cov(X_w.T)\n"
   ]
  },
  {
   "cell_type": "code",
   "execution_count": 6,
   "metadata": {},
   "outputs": [],
   "source": [
    "def Xsample(n): \n",
    "    return mvn(np.zeros(dim), C_x, size=n)"
   ]
  },
  {
   "cell_type": "code",
   "execution_count": 8,
   "metadata": {},
   "outputs": [],
   "source": [
    "X_ref = Xsample(n)"
   ]
  },
  {
   "cell_type": "code",
   "execution_count": 14,
   "metadata": {},
   "outputs": [],
   "source": [
    "ms = [1000, 2000, 4000, 6000]\n",
    "KL_XY = []\n",
    "Re099_XY = []\n",
    "Re0999_XY = []\n",
    "for m in ms: \n",
    "    KL_XY.append(avgKL_XY_SKL(X_ref, m, 10, Cov=C_x))\n",
    "    Re099_XY.append(avgRenyi_XY_SKL(X_ref, m, 10, alpha=0.99, Cov=C_x))\n",
    "    Re0999_XY.append(avgRenyi_XY_SKL(X_ref, m, 10, alpha=0.999, Cov=C_x))"
   ]
  },
  {
   "cell_type": "code",
   "execution_count": 15,
   "metadata": {},
   "outputs": [
    {
     "data": {
      "text/plain": [
       "(1000, 6000)"
      ]
     },
     "execution_count": 15,
     "metadata": {},
     "output_type": "execute_result"
    },
    {
     "data": {
      "image/png": "[encoded data removed]",
      "text/plain": [
       "<Figure size 432x288 with 1 Axes>"
      ]
     },
     "metadata": {
      "needs_background": "light"
     },
     "output_type": "display_data"
    }
   ],
   "source": [
    "fig = plt.figure()\n",
    "sub = fig.add_subplot(111)\n",
    "sub.plot(ms, KL_XY)\n",
    "sub.plot(ms, Re099_XY)\n",
    "sub.plot(ms, Re0999_XY)\n",
    "sub.set_xlim([1000, 6000])"
   ]
  },
  {
   "cell_type": "code",
   "execution_count": null,
   "metadata": {},
   "outputs": [],
   "source": []
  }
 ],
 "metadata": {
  "kernelspec": {
   "display_name": "Python 2",
   "language": "python",
   "name": "python2"
  },
  "language_info": {
   "codemirror_mode": {
    "name": "ipython",
    "version": 2
   },
   "file_extension": ".py",
   "mimetype": "text/x-python",
   "name": "python",
   "nbconvert_exporter": "python",
   "pygments_lexer": "ipython2",
   "version": "2.7.15"
  }
 },
 "nbformat": 4,
 "nbformat_minor": 2
}
