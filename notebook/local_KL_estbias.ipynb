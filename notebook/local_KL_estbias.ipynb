{
 "cells": [
  {
   "cell_type": "code",
   "execution_count": 1,
   "metadata": {},
   "outputs": [],
   "source": [
    "import numpy as np\n",
    "from scipy.special import gamma as Gamma\n",
    "from scipy.special import gammaln as GammaLn\n",
    "from numpy.random import multivariate_normal as mvn \n",
    "from scipy.stats import multivariate_normal as multinorm\n",
    "#\n",
    "from sklearn.neighbors import NearestNeighbors\n",
    "# -- nonGaussLike -- \n",
    "from nongausslike import knn as kNN\n",
    "from nongausslike import nongauss as NG"
   ]
  },
  {
   "cell_type": "code",
   "execution_count": 2,
   "metadata": {},
   "outputs": [],
   "source": [
    "import matplotlib as mpl \n",
    "import matplotlib.pyplot as plt\n",
    "mpl.rcParams['text.usetex'] = True\n",
    "mpl.rcParams['font.family'] = 'serif'\n",
    "mpl.rcParams['axes.linewidth'] = 1.5\n",
    "mpl.rcParams['axes.xmargin'] = 1\n",
    "mpl.rcParams['xtick.labelsize'] = 'x-large'\n",
    "mpl.rcParams['xtick.major.size'] = 5\n",
    "mpl.rcParams['xtick.major.width'] = 1.5\n",
    "mpl.rcParams['ytick.labelsize'] = 'x-large'\n",
    "mpl.rcParams['ytick.major.size'] = 5\n",
    "mpl.rcParams['ytick.major.width'] = 1.5\n",
    "mpl.rcParams['legend.frameon'] = False\n",
    "%matplotlib inline"
   ]
  },
  {
   "cell_type": "code",
   "execution_count": 3,
   "metadata": {},
   "outputs": [],
   "source": [
    "def c_1(d): \n",
    "    return np.pi**(0.5 * float(d)) / Gamma(0.5*float(d)+1)\n",
    "\n",
    "def hat_p(X, k=10): \n",
    "    n, d = X.shape # n and dimensions\n",
    "    k, n, d = float(k), float(n), float(d)\n",
    "\n",
    "    # kNN term\n",
    "    NN_X = NearestNeighbors(n_neighbors=int(k)).fit(X)\n",
    "    dNN_XX, _ = NN_X.kneighbors(X, n_neighbors=int(k)+1) # k+1 to exclude itself\n",
    "    rho_k_i = dNN_XX[:,-1]\n",
    "    \n",
    "    return k/(n-1) * 1 / (c_1(d) * rho_k_i**d)\n",
    "\n",
    "def KL_Xq(X, q, k=10): \n",
    "    ''' X is a matrix, k is float, q is a function \n",
    "    '''\n",
    "    try: \n",
    "        n, d = X.shape\n",
    "    except ValueError: \n",
    "        n, d = X.reshape(-1,1).shape\n",
    "\n",
    "    p_Xi = hat_p(X, k=k)\n",
    "    q_Xi = q(X)\n",
    "    return np.sum(np.log(p_Xi) - np.log(q_Xi))/n"
   ]
  },
  {
   "cell_type": "code",
   "execution_count": 4,
   "metadata": {},
   "outputs": [],
   "source": [
    "def KL_XY_SKL(X, m, k, div_func='kl', n_sample=10, Cov=None): \n",
    "    d = X.shape[1]\n",
    "    _kl = []\n",
    "    for i in range(n_sample): \n",
    "        Y = mvn(np.zeros(d), Cov, size=m)\n",
    "        _kl.append(NG.kNNdiv_gauss(X, None, Knn=k, div_func=div_func, gauss=Y))\n",
    "    return np.average(_kl), np.std(_kl)"
   ]
  },
  {
   "cell_type": "code",
   "execution_count": 22,
   "metadata": {},
   "outputs": [
    {
     "name": "stdout",
     "output_type": "stream",
     "text": [
      "37 dimensional data with 2048 samples\n"
     ]
    }
   ],
   "source": [
    "X_pk = NG.X_pk_all('patchy.z1', NorS='ngc', sys='fc')\n",
    "X_res, _ = NG.meansub(X_pk)\n",
    "X_w, W = NG.whiten(X_res)\n",
    "C_x = np.cov(X_w.T)\n",
    "\n",
    "n, dim = X_pk.shape\n",
    "print(\"%i dimensional data with %i samples\" % (dim, n))\n",
    "\n",
    "C_x_p = np.zeros(C_x.shape)\n",
    "for i in range(C_x.shape[0]): \n",
    "    for j in range(C_x.shape[1]): \n",
    "        if i != j: \n",
    "            C_x_p[i,j] = 1.1 * C_x[i,j]\n",
    "            \n",
    "C_x_pp = np.zeros(C_x.shape)\n",
    "for i in range(C_x.shape[0]): \n",
    "    for j in range(C_x.shape[1]): \n",
    "        if i != j: \n",
    "            C_x_pp[i,j] = 0.9 * C_x[i,j]"
   ]
  },
  {
   "cell_type": "code",
   "execution_count": 23,
   "metadata": {},
   "outputs": [],
   "source": [
    "def Xsample(n): \n",
    "    return mvn(np.zeros(dim), C_x, size=n)\n",
    "\n",
    "def Xpsample(n): \n",
    "    return mvn(np.zeros(dim), C_x_p, size=n)\n",
    "\n",
    "def Xppsample(n): \n",
    "    return mvn(np.zeros(dim), C_x_pp, size=n)"
   ]
  },
  {
   "cell_type": "code",
   "execution_count": 24,
   "metadata": {},
   "outputs": [],
   "source": [
    "ns = [1000, 2000, 3000, 5000, 8000]\n",
    "X_ref_ns, Xp_ref_ns, Xpp_ref_ns = [], [], [] \n",
    "for n in ns: \n",
    "    X_ref_ns.append(Xsample(n))\n",
    "    Xp_ref_ns.append(Xpsample(n))\n",
    "    Xpp_ref_ns.append(Xppsample(n))"
   ]
  },
  {
   "cell_type": "code",
   "execution_count": 26,
   "metadata": {},
   "outputs": [],
   "source": [
    "KL_XY_ns, KL_XpY_ns, KL_XppY_ns, sigKL_XY_ns, sigKL_XpY_ns, sigKL_XppY_ns = [], [], [], [], [], [] \n",
    "for i in range(len(ns)): \n",
    "    avgKLxy, sigKLxy = KL_XY_SKL(X_ref_ns[i], ns[i], 2, Cov=C_x)\n",
    "    KL_XY_ns.append(avgKLxy)\n",
    "    sigKL_XY_ns.append(sigKLxy)\n",
    "    \n",
    "    avgKLxpy, sigKLxpy = KL_XY_SKL(Xp_ref_ns[i], ns[i], 2, Cov=C_x)\n",
    "    KL_XpY_ns.append(avgKLxpy)\n",
    "    sigKL_XpY_ns.append(sigKLxpy)\n",
    "    \n",
    "    avgKLxppy, sigKLxppy = KL_XY_SKL(Xpp_ref_ns[i], ns[i], 2, Cov=C_x)\n",
    "    KL_XppY_ns.append(avgKLxppy)\n",
    "    sigKL_XppY_ns.append(sigKLxppy)"
   ]
  },
  {
   "cell_type": "code",
   "execution_count": 28,
   "metadata": {},
   "outputs": [
    {
     "data": {
      "text/plain": [
       "Text(0,0.5,'KL Divergence')"
      ]
     },
     "execution_count": 28,
     "metadata": {},
     "output_type": "execute_result"
    },
    {
     "data": {
      "image/png": "[encoded data removed]",
      "text/plain": [
       "<Figure size 720x720 with 1 Axes>"
      ]
     },
     "metadata": {
      "needs_background": "light"
     },
     "output_type": "display_data"
    }
   ],
   "source": [
    "fig = plt.figure(figsize=(10,10))\n",
    "sub = fig.add_subplot(111)\n",
    "sub.errorbar(ns, KL_XY_ns, yerr=sigKL_XY_ns, fmt='.C0')\n",
    "sub.plot(ns, KL_XY_ns, c='C0')\n",
    "\n",
    "sub.errorbar(ns, np.array(KL_XpY_ns)-305, yerr=sigKL_XpY_ns, fmt='.C1')\n",
    "sub.plot(ns, np.array(KL_XpY_ns)-305, c='C1')\n",
    "\n",
    "sub.errorbar(ns, np.array(KL_XppY_ns)-305, yerr=sigKL_XppY_ns, fmt='.C2')\n",
    "sub.plot(ns, np.array(KL_XppY_ns)-305, c='C2')\n",
    "sub.legend(loc='upper right', fontsize=20)\n",
    "sub.set_xlabel('$n$', fontsize=25)\n",
    "sub.set_xlim([0, 10000])\n",
    "sub.set_ylabel('KL Divergence', fontsize=25)"
   ]
  },
  {
   "cell_type": "code",
   "execution_count": null,
   "metadata": {},
   "outputs": [],
   "source": []
  }
 ],
 "metadata": {
  "kernelspec": {
   "display_name": "Python 2",
   "language": "python",
   "name": "python2"
  },
  "language_info": {
   "codemirror_mode": {
    "name": "ipython",
    "version": 2
   },
   "file_extension": ".py",
   "mimetype": "text/x-python",
   "name": "python",
   "nbconvert_exporter": "python",
   "pygments_lexer": "ipython2",
   "version": "2.7.15"
  }
 },
 "nbformat": 4,
 "nbformat_minor": 2
}
