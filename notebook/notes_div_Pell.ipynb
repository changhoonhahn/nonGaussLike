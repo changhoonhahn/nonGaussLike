{
 "cells": [
  {
   "cell_type": "markdown",
   "metadata": {},
   "source": [
    "We explore $P_\\ell$ divergence estimates between the likelihood and pseudo-likelihood with \n",
    "truncated $k$-range in order to better understand where the non-Gaussianity is coming from. "
   ]
  },
  {
   "cell_type": "code",
   "execution_count": 1,
   "metadata": {
    "collapsed": true
   },
   "outputs": [],
   "source": [
    "import numpy as np \n",
    "import scipy as sp \n",
    "\n",
    "import env\n",
    "import util as UT\n",
    "import nongauss as NG"
   ]
  },
  {
   "cell_type": "code",
   "execution_count": 14,
   "metadata": {
    "collapsed": true
   },
   "outputs": [],
   "source": [
    "from numpy.random import multivariate_normal as mvn"
   ]
  },
  {
   "cell_type": "code",
   "execution_count": 2,
   "metadata": {
    "collapsed": true
   },
   "outputs": [],
   "source": [
    "import matplotlib as mpl \n",
    "import matplotlib.pyplot as plt \n",
    "mpl.rcParams['text.usetex'] = True\n",
    "mpl.rcParams['font.family'] = 'serif'\n",
    "mpl.rcParams['axes.linewidth'] = 1.5\n",
    "mpl.rcParams['axes.xmargin'] = 1\n",
    "mpl.rcParams['xtick.labelsize'] = 'x-large'\n",
    "mpl.rcParams['xtick.major.size'] = 5\n",
    "mpl.rcParams['xtick.major.width'] = 1.5\n",
    "mpl.rcParams['ytick.labelsize'] = 'x-large'\n",
    "mpl.rcParams['ytick.major.size'] = 5\n",
    "mpl.rcParams['ytick.major.width'] = 1.5\n",
    "mpl.rcParams['legend.frameon'] = False\n",
    "%matplotlib inline"
   ]
  },
  {
   "cell_type": "markdown",
   "metadata": {},
   "source": [
    "First lets try to reproduce the results from the paper"
   ]
  },
  {
   "cell_type": "code",
   "execution_count": 48,
   "metadata": {
    "collapsed": true
   },
   "outputs": [],
   "source": [
    "X_mock = NG.X_pk_all('patchy.z1', NorS='ngc', sys='fc')"
   ]
  },
  {
   "cell_type": "code",
   "execution_count": 50,
   "metadata": {},
   "outputs": [],
   "source": [
    "X_mock_meansub, _ = NG.meansub(X_mock)\n",
    "X_w, _ = NG.whiten(X_mock_meansub, method='pca')#, method='choletsky')"
   ]
  },
  {
   "cell_type": "code",
   "execution_count": 51,
   "metadata": {
    "collapsed": true
   },
   "outputs": [],
   "source": [
    "C_X = np.cov(X_w.T)"
   ]
  },
  {
   "cell_type": "code",
   "execution_count": 52,
   "metadata": {},
   "outputs": [],
   "source": [
    "div_ref = [] \n",
    "for i in range(100): \n",
    "    Xref = mvn(np.zeros(X_mock.shape[1]), C_X, size=n_mock2)\n",
    "    div_ref_i = NG.kNNdiv_gauss(Xref, C_X, Knn=10, div_func='kl', Nref=2000)\n",
    "    div_ref.append(div_ref_i)"
   ]
  },
  {
   "cell_type": "code",
   "execution_count": 53,
   "metadata": {
    "collapsed": true
   },
   "outputs": [],
   "source": [
    "div = [] \n",
    "for i in range(100): \n",
    "    div_i = NG.kNNdiv_gauss(X_w, C_X, Knn=10, div_func='kl', Nref=2000)\n",
    "    div.append(div_i)"
   ]
  },
  {
   "cell_type": "code",
   "execution_count": 138,
   "metadata": {},
   "outputs": [
    {
     "name": "stdout",
     "output_type": "stream",
     "text": [
      "-0.261725 0.0238797 -0.131719\n"
     ]
    }
   ],
   "source": [
    "print np.min(div), np.max(div), np.mean(div)"
   ]
  },
  {
   "cell_type": "code",
   "execution_count": 57,
   "metadata": {},
   "outputs": [
    {
     "data": {
      "text/plain": [
       "<matplotlib.legend.Legend at 0x1a230b8e90>"
      ]
     },
     "execution_count": 57,
     "metadata": {},
     "output_type": "execute_result"
    },
    {
     "data": {
      "image/png": "[encoded data removed]",
      "text/plain": [
       "<matplotlib.figure.Figure at 0x1a2329ec50>"
      ]
     },
     "metadata": {},
     "output_type": "display_data"
    }
   ],
   "source": [
    "fig = plt.figure(figsize=(10,4))\n",
    "sub = fig.add_subplot(111)\n",
    "hh = np.histogram(div_ref, normed=True, range=[-0.5, 0.5], bins=40)\n",
    "bp = UT.bar_plot(*hh)\n",
    "sub.fill_between(bp[0], np.zeros(len(bp[0])), bp[1], edgecolor='none', color='blue', label='Ref.')\n",
    "hh = np.histogram(div, normed=True, range=[-0.5, 0.5], bins=40)\n",
    "bp = UT.bar_plot(*hh)\n",
    "sub.fill_between(bp[0], np.zeros(len(bp[0])), bp[1], edgecolor='none', color='orange', label='low $k_{max}$')\n",
    "sub.set_ylim([0., 8.])\n",
    "sub.set_xlim([-0.3, 0.3])\n",
    "sub.legend(loc='upper right', prop={'size': 30})"
   ]
  },
  {
   "cell_type": "markdown",
   "metadata": {},
   "source": [
    "Lets first decrease $k_{max}$ to $0.1$ for all $\\ell = 0, 2, 4$. Lets construct `X_mock`"
   ]
  },
  {
   "cell_type": "code",
   "execution_count": 111,
   "metadata": {
    "collapsed": true
   },
   "outputs": [],
   "source": [
    "pk_list = [] \n",
    "for ell in [0, 2, 4]:     \n",
    "    if ell == 4: krange_trun1 = [0.01, 0.1]\n",
    "    else: krange_trunc1 = [0.01, 0.11]\n",
    "    plk = NG.X_pk('patchy.z1', ell=ell, NorS='ngc', sys='fc', krange=krange_trunc1)\n",
    "    pk_list.append(plk.T)\n",
    "X_mock1 = np.concatenate(pk_list).T"
   ]
  },
  {
   "cell_type": "code",
   "execution_count": 112,
   "metadata": {},
   "outputs": [
    {
     "name": "stdout",
     "output_type": "stream",
     "text": [
      "2048 x 30\n"
     ]
    }
   ],
   "source": [
    "n_mock = X_mock1.shape[0] # number of mocks\n",
    "print n_mock, 'x', X_mock1.shape[1]"
   ]
  },
  {
   "cell_type": "markdown",
   "metadata": {},
   "source": [
    "standard mean subtract and whiten"
   ]
  },
  {
   "cell_type": "code",
   "execution_count": 86,
   "metadata": {},
   "outputs": [],
   "source": [
    "X_mock1_meansub, _ = NG.meansub(X_mock1)\n",
    "X_w1, W1 = NG.whiten(X_mock1_meansub, method='pca')"
   ]
  },
  {
   "cell_type": "code",
   "execution_count": 87,
   "metadata": {},
   "outputs": [],
   "source": [
    "C_X1 = np.cov(X_w1.T)"
   ]
  },
  {
   "cell_type": "markdown",
   "metadata": {},
   "source": [
    "Lets calculate the reference divergence $\\hat{D}(X^\\mathrm{ref} \\parallel Y^\\mathrm{ref})$"
   ]
  },
  {
   "cell_type": "code",
   "execution_count": 88,
   "metadata": {
    "collapsed": true
   },
   "outputs": [],
   "source": [
    "div_ref1 = [] \n",
    "for i in range(100): \n",
    "    Xref1 = mvn(np.zeros(X_mock1.shape[1]), C_X1, size=n_mock)\n",
    "    div_ref1_i = NG.kNNdiv_gauss(Xref1, C_X1, Knn=10, div_func='kl', Nref=2000)\n",
    "    div_ref1.append(div_ref1_i)"
   ]
  },
  {
   "cell_type": "markdown",
   "metadata": {},
   "source": [
    "Now the divergence of interest"
   ]
  },
  {
   "cell_type": "code",
   "execution_count": 89,
   "metadata": {
    "collapsed": true
   },
   "outputs": [],
   "source": [
    "div_trunc1 = [] \n",
    "for i in range(100): \n",
    "    div_trunc1_i = NG.kNNdiv_gauss(X_w1, C_X1, Knn=10, div_func='kl', Nref=2000)\n",
    "    div_trunc1.append(div_trunc1_i)"
   ]
  },
  {
   "cell_type": "code",
   "execution_count": 90,
   "metadata": {},
   "outputs": [
    {
     "name": "stdout",
     "output_type": "stream",
     "text": [
      "-0.181829 0.0389693\n"
     ]
    }
   ],
   "source": [
    "print np.min(div_trunc1), np.max(div_trunc1)"
   ]
  },
  {
   "cell_type": "code",
   "execution_count": 91,
   "metadata": {},
   "outputs": [
    {
     "data": {
      "text/plain": [
       "<matplotlib.legend.Legend at 0x1128e8b10>"
      ]
     },
     "execution_count": 91,
     "metadata": {},
     "output_type": "execute_result"
    },
    {
     "data": {
      "image/png": "[encoded data removed]",
      "text/plain": [
       "<matplotlib.figure.Figure at 0x1a19007590>"
      ]
     },
     "metadata": {},
     "output_type": "display_data"
    }
   ],
   "source": [
    "fig = plt.figure(figsize=(10,4))\n",
    "sub = fig.add_subplot(111)\n",
    "hh = np.histogram(div_ref1, normed=True, range=[-0.5, 0.5], bins=40)\n",
    "bp = UT.bar_plot(*hh)\n",
    "sub.fill_between(bp[0], np.zeros(len(bp[0])), bp[1], edgecolor='none', color='blue', label='Ref.')\n",
    "hh = np.histogram(div_trunc1, normed=True, range=[-0.5, 0.5], bins=40)\n",
    "bp = UT.bar_plot(*hh)\n",
    "sub.fill_between(bp[0], np.zeros(len(bp[0])), bp[1], edgecolor='none', color='orange', label='low $k_{max}$')\n",
    "sub.set_ylim([0., 8.])\n",
    "sub.set_xlim([-0.3, 0.3])\n",
    "sub.legend(loc='upper right', prop={'size': 30})"
   ]
  },
  {
   "cell_type": "markdown",
   "metadata": {},
   "source": [
    "Now lets increase $k_{min}$ to $0.05$"
   ]
  },
  {
   "cell_type": "code",
   "execution_count": 69,
   "metadata": {
    "collapsed": true
   },
   "outputs": [],
   "source": [
    "pk_list = [] \n",
    "for ell in [0, 2, 4]: \n",
    "    if ell == 4: krange_trun2 = [0.05, 0.1]\n",
    "    else: krange_trunc2 = [0.05, 0.15]\n",
    "    plk = NG.X_pk('patchy.z1', ell=ell, NorS='ngc', sys='fc', krange=krange_trunc2)\n",
    "    pk_list.append(plk.T)\n",
    "X_mock2 = np.concatenate(pk_list).T"
   ]
  },
  {
   "cell_type": "code",
   "execution_count": 70,
   "metadata": {},
   "outputs": [
    {
     "name": "stdout",
     "output_type": "stream",
     "text": [
      "2048 x 30\n"
     ]
    }
   ],
   "source": [
    "n_mock2 = X_mock2.shape[0] # number of mocks\n",
    "print n_mock2, 'x', X_mock2.shape[1]"
   ]
  },
  {
   "cell_type": "code",
   "execution_count": 71,
   "metadata": {
    "collapsed": true
   },
   "outputs": [],
   "source": [
    "X_mock2_meansub, _ = NG.meansub(X_mock2)\n",
    "X_w2, W2 = NG.whiten(X_mock2_meansub, method='pca')"
   ]
  },
  {
   "cell_type": "code",
   "execution_count": 72,
   "metadata": {
    "collapsed": true
   },
   "outputs": [],
   "source": [
    "C_X2 = np.cov(X_w2.T)"
   ]
  },
  {
   "cell_type": "code",
   "execution_count": 73,
   "metadata": {
    "collapsed": true
   },
   "outputs": [],
   "source": [
    "div_ref2 = [] \n",
    "for i in range(100): \n",
    "    Xref2 = mvn(np.zeros(X_mock2.shape[1]), C_X2, size=n_mock2)\n",
    "    div_ref2_i = NG.kNNdiv_gauss(Xref2, C_X2, Knn=10, div_func='kl', Nref=2000)\n",
    "    div_ref2.append(div_ref2_i)"
   ]
  },
  {
   "cell_type": "code",
   "execution_count": 74,
   "metadata": {
    "collapsed": true
   },
   "outputs": [],
   "source": [
    "div_trunc2 = [] \n",
    "for i in range(100): \n",
    "    div_trunc2_i = NG.kNNdiv_gauss(X_w2, C_X2, Knn=10, div_func='kl', Nref=2000)\n",
    "    div_trunc2.append(div_trunc2_i)"
   ]
  },
  {
   "cell_type": "code",
   "execution_count": 137,
   "metadata": {},
   "outputs": [
    {
     "name": "stdout",
     "output_type": "stream",
     "text": [
      "-0.248498 -0.0246398 -0.139223\n"
     ]
    }
   ],
   "source": [
    "print np.min(div_trunc2), np.max(div_trunc2), np.mean(div_trunc2)"
   ]
  },
  {
   "cell_type": "code",
   "execution_count": 77,
   "metadata": {},
   "outputs": [
    {
     "data": {
      "text/plain": [
       "<matplotlib.legend.Legend at 0x112885c50>"
      ]
     },
     "execution_count": 77,
     "metadata": {},
     "output_type": "execute_result"
    },
    {
     "data": {
      "image/png": "[encoded data removed]",
      "text/plain": [
       "<matplotlib.figure.Figure at 0x1a22be78d0>"
      ]
     },
     "metadata": {},
     "output_type": "display_data"
    }
   ],
   "source": [
    "fig = plt.figure(figsize=(10,4))\n",
    "sub = fig.add_subplot(111)\n",
    "hh = np.histogram(div_ref2, normed=True, range=[-0.5, 0.5], bins=40)\n",
    "bp = UT.bar_plot(*hh)\n",
    "sub.fill_between(bp[0], np.zeros(len(bp[0])), bp[1], edgecolor='none', color='blue', label='Ref.')\n",
    "hh = np.histogram(div_trunc2, normed=True, range=[-0.5, 0.5], bins=40)\n",
    "bp = UT.bar_plot(*hh)\n",
    "sub.fill_between(bp[0], np.zeros(len(bp[0])), bp[1], edgecolor='none', color='orange', label='low $k_{max}$')\n",
    "sub.set_ylim([0., 8.])\n",
    "sub.set_xlim([-0.3, 0.3])\n",
    "sub.legend(loc='upper right', prop={'size': 30})"
   ]
  },
  {
   "cell_type": "markdown",
   "metadata": {},
   "source": [
    "Now without the hexadecapole"
   ]
  },
  {
   "cell_type": "code",
   "execution_count": 92,
   "metadata": {
    "collapsed": true
   },
   "outputs": [],
   "source": [
    "pk_list = [] \n",
    "for ell in [0, 2]: \n",
    "    plk = NG.X_pk('patchy.z1', ell=ell, NorS='ngc', sys='fc', krange=[0.01,0.15])\n",
    "    pk_list.append(plk.T)\n",
    "X_mock3 = np.concatenate(pk_list).T"
   ]
  },
  {
   "cell_type": "code",
   "execution_count": 93,
   "metadata": {},
   "outputs": [
    {
     "name": "stdout",
     "output_type": "stream",
     "text": [
      "2048 x 28\n"
     ]
    }
   ],
   "source": [
    "n_mock = X_mock3.shape[0] # number of mocks\n",
    "print n_mock, 'x', X_mock3.shape[1]"
   ]
  },
  {
   "cell_type": "code",
   "execution_count": 94,
   "metadata": {
    "collapsed": true
   },
   "outputs": [],
   "source": [
    "X_mock3_meansub, _ = NG.meansub(X_mock3)\n",
    "X_w3, _ = NG.whiten(X_mock3_meansub, method='pca')"
   ]
  },
  {
   "cell_type": "code",
   "execution_count": 95,
   "metadata": {
    "collapsed": true
   },
   "outputs": [],
   "source": [
    "C_X3 = np.cov(X_w3.T)"
   ]
  },
  {
   "cell_type": "code",
   "execution_count": 97,
   "metadata": {},
   "outputs": [],
   "source": [
    "div_ref3 = [] \n",
    "for i in range(100): \n",
    "    Xref3 = mvn(np.zeros(X_mock3.shape[1]), C_X3, size=n_mock2)\n",
    "    div_ref3_i = NG.kNNdiv_gauss(Xref3, C_X3, Knn=10, div_func='kl', Nref=2000)\n",
    "    div_ref3.append(div_ref3_i)"
   ]
  },
  {
   "cell_type": "code",
   "execution_count": 98,
   "metadata": {
    "collapsed": true
   },
   "outputs": [],
   "source": [
    "div_trunc3 = [] \n",
    "for i in range(100): \n",
    "    div_trunc3_i = NG.kNNdiv_gauss(X_w3, C_X3, Knn=10, div_func='kl', Nref=2000)\n",
    "    div_trunc3.append(div_trunc3_i)"
   ]
  },
  {
   "cell_type": "code",
   "execution_count": 99,
   "metadata": {},
   "outputs": [
    {
     "data": {
      "text/plain": [
       "<matplotlib.legend.Legend at 0x1a270a73d0>"
      ]
     },
     "execution_count": 99,
     "metadata": {},
     "output_type": "execute_result"
    },
    {
     "data": {
      "image/png": "[encoded data removed]",
      "text/plain": [
       "<matplotlib.figure.Figure at 0x11282d890>"
      ]
     },
     "metadata": {},
     "output_type": "display_data"
    }
   ],
   "source": [
    "fig = plt.figure(figsize=(10,4))\n",
    "sub = fig.add_subplot(111)\n",
    "hh = np.histogram(div_ref3, normed=True, range=[-0.5, 0.5], bins=40)\n",
    "bp = UT.bar_plot(*hh)\n",
    "sub.fill_between(bp[0], np.zeros(len(bp[0])), bp[1], edgecolor='none', color='blue', label='Ref.')\n",
    "hh = np.histogram(div_trunc3, normed=True, range=[-0.5, 0.5], bins=40)\n",
    "bp = UT.bar_plot(*hh)\n",
    "sub.fill_between(bp[0], np.zeros(len(bp[0])), bp[1], edgecolor='none', color='orange', label='low $k_{max}$')\n",
    "sub.set_ylim([0., 8.])\n",
    "sub.set_xlim([-0.3, 0.3])\n",
    "sub.legend(loc='upper right', prop={'size': 30})"
   ]
  },
  {
   "cell_type": "code",
   "execution_count": 128,
   "metadata": {},
   "outputs": [
    {
     "name": "stdout",
     "output_type": "stream",
     "text": [
      "(2048, 10)\n",
      "(2048, 10)\n",
      "(2048, 8)\n"
     ]
    }
   ],
   "source": [
    "pk_list = [] \n",
    "for ell in [0, 2, 4]: \n",
    "    if ell == 4: krange_trunc4 = [0.02, 0.1]\n",
    "    else: krange_trunc4 = [0.01, 0.11]\n",
    "    plk = NG.X_pk('patchy.z1', ell=ell, NorS='ngc', sys='fc', krange=krange_trunc4)\n",
    "    pk_list.append(plk.T)\n",
    "X_mock4 = np.concatenate(pk_list).T"
   ]
  },
  {
   "cell_type": "code",
   "execution_count": 130,
   "metadata": {},
   "outputs": [
    {
     "name": "stdout",
     "output_type": "stream",
     "text": [
      "2048 x 28\n"
     ]
    }
   ],
   "source": [
    "print X_mock4.shape[0], 'x', X_mock4.shape[1]"
   ]
  },
  {
   "cell_type": "code",
   "execution_count": 131,
   "metadata": {
    "collapsed": true
   },
   "outputs": [],
   "source": [
    "X_mock4_meansub, _ = NG.meansub(X_mock4)\n",
    "X_w4, _ = NG.whiten(X_mock4_meansub, method='pca')"
   ]
  },
  {
   "cell_type": "code",
   "execution_count": 132,
   "metadata": {
    "collapsed": true
   },
   "outputs": [],
   "source": [
    "C_X4 = np.cov(X_w4.T)"
   ]
  },
  {
   "cell_type": "code",
   "execution_count": 134,
   "metadata": {},
   "outputs": [],
   "source": [
    "div_ref4 = [] \n",
    "for i in range(100): \n",
    "    Xref4 = mvn(np.zeros(X_mock4.shape[1]), C_X4, size=n_mock2)\n",
    "    div_ref4_i = NG.kNNdiv_gauss(Xref4, C_X4, Knn=10, div_func='kl', Nref=2000)\n",
    "    div_ref4.append(div_ref4_i)"
   ]
  },
  {
   "cell_type": "code",
   "execution_count": 135,
   "metadata": {
    "collapsed": true
   },
   "outputs": [],
   "source": [
    "div_trunc4 = [] \n",
    "for i in range(100): \n",
    "    div_trunc4_i = NG.kNNdiv_gauss(X_w4, C_X4, Knn=10, div_func='kl', Nref=2000)\n",
    "    div_trunc4.append(div_trunc4_i)"
   ]
  },
  {
   "cell_type": "code",
   "execution_count": 136,
   "metadata": {},
   "outputs": [
    {
     "data": {
      "text/plain": [
       "<matplotlib.legend.Legend at 0x1a272ff590>"
      ]
     },
     "execution_count": 136,
     "metadata": {},
     "output_type": "execute_result"
    },
    {
     "data": {
      "image/png": "[encoded data removed]",
      "text/plain": [
       "<matplotlib.figure.Figure at 0x1a272a14d0>"
      ]
     },
     "metadata": {},
     "output_type": "display_data"
    }
   ],
   "source": [
    "fig = plt.figure(figsize=(10,4))\n",
    "sub = fig.add_subplot(111)\n",
    "hh = np.histogram(div_ref4, normed=True, range=[-0.5, 0.5], bins=40)\n",
    "bp = UT.bar_plot(*hh)\n",
    "sub.fill_between(bp[0], np.zeros(len(bp[0])), bp[1], edgecolor='none', color='blue', label='Ref.')\n",
    "hh = np.histogram(div_trunc4, normed=True, range=[-0.5, 0.5], bins=40)\n",
    "bp = UT.bar_plot(*hh)\n",
    "sub.fill_between(bp[0], np.zeros(len(bp[0])), bp[1], edgecolor='none', color='orange', label='low $k_{max}$')\n",
    "sub.set_ylim([0., 8.])\n",
    "sub.set_xlim([-0.3, 0.3])\n",
    "sub.legend(loc='upper right', prop={'size': 30})"
   ]
  },
  {
   "cell_type": "code",
   "execution_count": null,
   "metadata": {
    "collapsed": true
   },
   "outputs": [],
   "source": []
  }
 ],
 "metadata": {
  "kernelspec": {
   "display_name": "Python 2",
   "language": "python",
   "name": "python2"
  },
  "language_info": {
   "codemirror_mode": {
    "name": "ipython",
    "version": 2
   },
   "file_extension": ".py",
   "mimetype": "text/x-python",
   "name": "python",
   "nbconvert_exporter": "python",
   "pygments_lexer": "ipython2",
   "version": "2.7.13"
  }
 },
 "nbformat": 4,
 "nbformat_minor": 2
}
