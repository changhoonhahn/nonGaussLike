{
 "cells": [
  {
   "cell_type": "markdown",
   "metadata": {},
   "source": [
    "The main reason that the KL divergence of $P(k)$ is negative is because there's a significant bias caused by the $k$-NN estimator. "
   ]
  },
  {
   "cell_type": "code",
   "execution_count": 1,
   "metadata": {},
   "outputs": [],
   "source": [
    "import numpy as np\n",
    "from scipy.special import gamma as Gamma\n",
    "from scipy.special import gammaln as GammaLn\n",
    "from numpy.random import multivariate_normal as mvn \n",
    "from scipy.stats import multivariate_normal as multinorm\n",
    "#\n",
    "from sklearn.neighbors import NearestNeighbors\n",
    "# -- nonGaussLike -- \n",
    "from nongausslike import knn as kNN\n",
    "from nongausslike import nongauss as NG"
   ]
  },
  {
   "cell_type": "code",
   "execution_count": 2,
   "metadata": {},
   "outputs": [],
   "source": [
    "import matplotlib as mpl \n",
    "import matplotlib.pyplot as plt\n",
    "mpl.rcParams['text.usetex'] = True\n",
    "mpl.rcParams['font.family'] = 'serif'\n",
    "mpl.rcParams['axes.linewidth'] = 1.5\n",
    "mpl.rcParams['axes.xmargin'] = 1\n",
    "mpl.rcParams['xtick.labelsize'] = 'x-large'\n",
    "mpl.rcParams['xtick.major.size'] = 5\n",
    "mpl.rcParams['xtick.major.width'] = 1.5\n",
    "mpl.rcParams['ytick.labelsize'] = 'x-large'\n",
    "mpl.rcParams['ytick.major.size'] = 5\n",
    "mpl.rcParams['ytick.major.width'] = 1.5\n",
    "mpl.rcParams['legend.frameon'] = False\n",
    "%matplotlib inline"
   ]
  },
  {
   "cell_type": "code",
   "execution_count": 3,
   "metadata": {},
   "outputs": [
    {
     "name": "stdout",
     "output_type": "stream",
     "text": [
      "37 dimensional data with 2048 samples\n"
     ]
    }
   ],
   "source": [
    "X_pk = NG.X_pk_all('patchy.z1', NorS='ngc', sys='fc')\n",
    "X_res, _ = NG.meansub(X_pk)\n",
    "X_w, W = NG.whiten(X_res)\n",
    "C_x = np.cov(X_w.T)\n",
    "\n",
    "n, dim = X_pk.shape\n",
    "print(\"%i dimensional data with %i samples\" % (dim, n))\n",
    "\n",
    "X_ref = mvn(np.zeros(dim), C_x, size=n)"
   ]
  },
  {
   "cell_type": "code",
   "execution_count": 4,
   "metadata": {},
   "outputs": [],
   "source": [
    "def X_sample(nn): \n",
    "    return mvn(np.zeros(dim), C_x, size=nn)"
   ]
  },
  {
   "cell_type": "code",
   "execution_count": 5,
   "metadata": {},
   "outputs": [],
   "source": [
    "def c_1(d): \n",
    "    return np.pi**(0.5 * float(d)) / Gamma(0.5*float(d)+1)"
   ]
  },
  {
   "cell_type": "code",
   "execution_count": 6,
   "metadata": {},
   "outputs": [],
   "source": [
    "def hat_p(X, k=10): \n",
    "    n, d = X.shape # n and dimensions\n",
    "    k, n, d = float(k), float(n), float(d)\n",
    "\n",
    "    # kNN term\n",
    "    NN_X = NearestNeighbors(n_neighbors=int(k)).fit(X)\n",
    "    dNN_XX, _ = NN_X.kneighbors(X, n_neighbors=int(k)+1) # k+1 to exclude itself\n",
    "    rho_k_i = dNN_XX[:,-1]\n",
    "    \n",
    "    return k/(n-1) * 1 / (c_1(d) * rho_k_i**d)"
   ]
  },
  {
   "cell_type": "code",
   "execution_count": 7,
   "metadata": {},
   "outputs": [],
   "source": [
    "def p(X): \n",
    "    return multinorm.pdf(X, mean=np.zeros(dim), cov=C_x)"
   ]
  },
  {
   "cell_type": "markdown",
   "metadata": {},
   "source": [
    "We're trying to estimate \n",
    "\n",
    "$$\\int p(x) \\log p(x) dx \\approx \\sum\\limits_{i=1}^{n} \\log p(X_i)$$"
   ]
  },
  {
   "cell_type": "code",
   "execution_count": 8,
   "metadata": {},
   "outputs": [],
   "source": [
    "X_ref_dense = X_sample(100000)\n",
    "int_plogp_true = 1./100000. * np.sum(np.log(p(X_ref_dense)))"
   ]
  },
  {
   "cell_type": "code",
   "execution_count": 9,
   "metadata": {},
   "outputs": [
    {
     "name": "stdout",
     "output_type": "stream",
     "text": [
      "-52.49174806680252\n"
     ]
    }
   ],
   "source": [
    "print int_plogp_true"
   ]
  },
  {
   "cell_type": "code",
   "execution_count": 10,
   "metadata": {},
   "outputs": [],
   "source": [
    "ks = [1, 3, 5, 7, 10, 15, 20, 100]#, 1000]\n",
    "pX_ref = p(X_ref)\n",
    "hat_pX_ref = []\n",
    "for k in ks: \n",
    "    hat_pX_ref.append(hat_p(X_ref, k=k))\n",
    "hat_pX_ref = np.array(hat_pX_ref)"
   ]
  },
  {
   "cell_type": "code",
   "execution_count": 11,
   "metadata": {},
   "outputs": [
    {
     "data": {
      "text/plain": [
       "Text(0.5,0,'$k$')"
      ]
     },
     "execution_count": 11,
     "metadata": {},
     "output_type": "execute_result"
    },
    {
     "data": {
      "image/png": "[encoded data removed]",
      "text/plain": [
       "<Figure size 432x288 with 1 Axes>"
      ]
     },
     "metadata": {
      "needs_background": "light"
     },
     "output_type": "display_data"
    }
   ],
   "source": [
    "fig = plt.figure()\n",
    "sub = fig.add_subplot(111)\n",
    "sub.plot(ks, np.average(np.log(hat_pX_ref), axis=1))\n",
    "sub.plot(ks, np.repeat(np.average(np.log(pX_ref)), len(ks)), c='k', ls=':')\n",
    "sub.plot(ks, np.repeat(int_plogp_true, len(ks)), c='k', ls='-')\n",
    "sub.set_xlim([0, ks[-1]])\n",
    "sub.set_ylabel(r'$\\frac{1}{n}\\sum_{i} \\log p(X_i)$', fontsize=20)\n",
    "#sub.set_yscale('log')\n",
    "sub.set_xlabel('$k$', fontsize=20)"
   ]
  },
  {
   "cell_type": "code",
   "execution_count": 17,
   "metadata": {},
   "outputs": [],
   "source": [
    "ns = [2000, 4000, 6000, 8000, 10000, 20000]\n",
    "hat_plogp_ns, hat_plogp_1nn_ns, hat_plogp_5nn_ns, hat_plogp_10nn_ns = [], [], [], [] \n",
    "for n in ns: \n",
    "    Xn = X_sample(n)\n",
    "    hat_plogp_ns.append(np.average(np.log(p(Xn))))\n",
    "    hat_plogp_1nn_ns.append(np.average(np.log(hat_p(Xn, k=1))))\n",
    "    hat_plogp_5nn_ns.append(np.average(np.log(hat_p(Xn, k=5))))\n",
    "    hat_plogp_10nn_ns.append(np.average(np.log(hat_p(Xn, k=10))))"
   ]
  },
  {
   "cell_type": "code",
   "execution_count": 20,
   "metadata": {},
   "outputs": [
    {
     "data": {
      "text/plain": [
       "Text(0.5,0,'$n$')"
      ]
     },
     "execution_count": 20,
     "metadata": {},
     "output_type": "execute_result"
    },
    {
     "data": {
      "image/png": "[encoded data removed]",
      "text/plain": [
       "<Figure size 432x288 with 1 Axes>"
      ]
     },
     "metadata": {
      "needs_background": "light"
     },
     "output_type": "display_data"
    }
   ],
   "source": [
    "fig = plt.figure()\n",
    "sub = fig.add_subplot(111)\n",
    "sub.plot(ns, hat_plogp_ns, c='k', ls=':')\n",
    "sub.plot(ns, np.repeat(int_plogp_true, len(ns)), c='k', ls='-', label=\"'truth'\")\n",
    "sub.plot(ns, hat_plogp_1nn_ns, label='$k=1$')\n",
    "sub.plot(ns, hat_plogp_5nn_ns, label='$k=5$')\n",
    "sub.plot(ns, hat_plogp_10nn_ns, label='$k=10$')\n",
    "sub.legend(loc='upper right', frameon=True, fontsize=20)\n",
    "sub.set_xlim([ns[0], ns[-1]])\n",
    "sub.set_ylabel(r'$\\frac{1}{n}\\sum_{i} \\log p(X_i)$', fontsize=20)\n",
    "#sub.set_yscale('log')\n",
    "sub.set_xlabel('$n$', fontsize=20)"
   ]
  },
  {
   "cell_type": "code",
   "execution_count": 21,
   "metadata": {},
   "outputs": [],
   "source": [
    "def X_sample_lowd(nn): \n",
    "    return mvn(np.zeros(5), C_x[:5,:5], size=nn)"
   ]
  },
  {
   "cell_type": "code",
   "execution_count": 25,
   "metadata": {},
   "outputs": [],
   "source": [
    "def p_lowd(X): \n",
    "    return multinorm.pdf(X, mean=np.zeros(5), cov=C_x[:5,:5])"
   ]
  },
  {
   "cell_type": "code",
   "execution_count": 26,
   "metadata": {},
   "outputs": [],
   "source": [
    "X_ref_dense_lowd = X_sample_lowd(100000)\n",
    "int_plogp_true = 1./100000. * np.sum(np.log(p_lowd(X_ref_dense_lowd)))"
   ]
  },
  {
   "cell_type": "code",
   "execution_count": 30,
   "metadata": {},
   "outputs": [],
   "source": [
    "ns = [2000, 4000, 6000, 8000, 10000, 20000]\n",
    "hat_plogp_ns, hat_plogp_1nn_ns, hat_plogp_5nn_ns, hat_plogp_10nn_ns, hat_plogp_100nn_ns = [], [], [], [], [] \n",
    "for n in ns: \n",
    "    Xn = X_sample_lowd(n)\n",
    "    hat_plogp_ns.append(np.average(np.log(p_lowd(Xn))))\n",
    "    hat_plogp_1nn_ns.append(np.average(np.log(hat_p(Xn, k=1))))\n",
    "    hat_plogp_5nn_ns.append(np.average(np.log(hat_p(Xn, k=5))))\n",
    "    hat_plogp_10nn_ns.append(np.average(np.log(hat_p(Xn, k=10))))\n",
    "    hat_plogp_100nn_ns.append(np.average(np.log(hat_p(Xn, k=100))))"
   ]
  },
  {
   "cell_type": "code",
   "execution_count": 31,
   "metadata": {},
   "outputs": [
    {
     "data": {
      "text/plain": [
       "Text(0.5,0,'$n$')"
      ]
     },
     "execution_count": 31,
     "metadata": {},
     "output_type": "execute_result"
    },
    {
     "data": {
      "image/png": "[encoded data removed]",
      "text/plain": [
       "<Figure size 432x288 with 1 Axes>"
      ]
     },
     "metadata": {
      "needs_background": "light"
     },
     "output_type": "display_data"
    }
   ],
   "source": [
    "fig = plt.figure()\n",
    "sub = fig.add_subplot(111)\n",
    "sub.plot(ns, hat_plogp_ns, c='k', ls=':')\n",
    "sub.plot(ns, np.repeat(int_plogp_true, len(ns)), c='k', ls='-', label=\"'truth'\")\n",
    "sub.plot(ns, hat_plogp_1nn_ns, label='$k=1$')\n",
    "sub.plot(ns, hat_plogp_5nn_ns, label='$k=5$')\n",
    "sub.plot(ns, hat_plogp_10nn_ns, label='$k=10$')\n",
    "sub.plot(ns, hat_plogp_100nn_ns, label='$k=100$')\n",
    "sub.legend(loc='upper right', frameon=True, fontsize=20)\n",
    "sub.set_xlim([ns[0], ns[-1]])\n",
    "sub.set_ylabel(r'$\\frac{1}{n}\\sum_{i} \\log p(X_i)$', fontsize=20)\n",
    "#sub.set_yscale('log')\n",
    "sub.set_xlabel('$n$', fontsize=20)"
   ]
  }
 ],
 "metadata": {
  "kernelspec": {
   "display_name": "Python 2",
   "language": "python",
   "name": "python2"
  },
  "language_info": {
   "codemirror_mode": {
    "name": "ipython",
    "version": 2
   },
   "file_extension": ".py",
   "mimetype": "text/x-python",
   "name": "python",
   "nbconvert_exporter": "python",
   "pygments_lexer": "ipython2",
   "version": "2.7.15"
  }
 },
 "nbformat": 4,
 "nbformat_minor": 2
}
