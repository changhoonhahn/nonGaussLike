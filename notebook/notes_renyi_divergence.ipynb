{
 "cells": [
  {
   "cell_type": "markdown",
   "metadata": {},
   "source": [
    "the objective of this notebook is to explore the $k$-NN estimator for calculating divergences between two \"bags\". Each \"bag\" represents an independent and identically distributed sample from some unknown probability distribution. "
   ]
  },
  {
   "cell_type": "code",
   "execution_count": 2,
   "metadata": {
    "collapsed": true
   },
   "outputs": [],
   "source": [
    "import numpy as np "
   ]
  },
  {
   "cell_type": "code",
   "execution_count": 3,
   "metadata": {
    "collapsed": true
   },
   "outputs": [],
   "source": [
    "import matplotlib as mpl \n",
    "import matplotlib.pyplot as plt \n",
    "mpl.rcParams['text.usetex'] = True\n",
    "mpl.rcParams['font.family'] = 'serif'\n",
    "mpl.rcParams['axes.linewidth'] = 1.5\n",
    "mpl.rcParams['axes.xmargin'] = 1\n",
    "mpl.rcParams['xtick.labelsize'] = 'x-large'\n",
    "mpl.rcParams['xtick.major.size'] = 5\n",
    "mpl.rcParams['xtick.major.width'] = 1.5\n",
    "mpl.rcParams['ytick.labelsize'] = 'x-large'\n",
    "mpl.rcParams['ytick.major.size'] = 5\n",
    "mpl.rcParams['ytick.major.width'] = 1.5\n",
    "mpl.rcParams['legend.frameon'] = False\n",
    "%matplotlib inline"
   ]
  },
  {
   "cell_type": "code",
   "execution_count": 4,
   "metadata": {
    "collapsed": true
   },
   "outputs": [],
   "source": [
    "from skl_groups.divergences import KNNDivergenceEstimator\n",
    "from skl_groups.features import Features"
   ]
  },
  {
   "cell_type": "markdown",
   "metadata": {},
   "source": [
    "lets try to get the divergence between two same bags..."
   ]
  },
  {
   "cell_type": "code",
   "execution_count": 5,
   "metadata": {
    "collapsed": true
   },
   "outputs": [],
   "source": [
    "mvn = np.random.multivariate_normal"
   ]
  },
  {
   "cell_type": "code",
   "execution_count": 6,
   "metadata": {
    "collapsed": true
   },
   "outputs": [],
   "source": [
    "sample1 = mvn([0.,0.], np.identity(2), size=100)\n",
    "sample2 = mvn([0.,0.], np.identity(2), size=101)"
   ]
  },
  {
   "cell_type": "code",
   "execution_count": 7,
   "metadata": {},
   "outputs": [
    {
     "data": {
      "text/plain": [
       "(-3.0, 3.0)"
      ]
     },
     "execution_count": 7,
     "metadata": {},
     "output_type": "execute_result"
    },
    {
     "data": {
      "image/png": "[encoded data removed]",
      "text/plain": [
       "<matplotlib.figure.Figure at 0x114504090>"
      ]
     },
     "metadata": {},
     "output_type": "display_data"
    }
   ],
   "source": [
    "plt.figure(figsize=(3,3))\n",
    "plt.scatter(sample1[:,0], sample1[:,1])\n",
    "plt.scatter(sample2[:,0], sample2[:,1])\n",
    "plt.xlim([-3., 3.])\n",
    "plt.ylim([-3., 3.])"
   ]
  },
  {
   "cell_type": "code",
   "execution_count": 41,
   "metadata": {
    "collapsed": true
   },
   "outputs": [],
   "source": [
    "kNN = KNNDivergenceEstimator(div_funcs=[\"renyi:.5\"], Ks=[1,2,3])#, version='slow')"
   ]
  },
  {
   "cell_type": "code",
   "execution_count": 42,
   "metadata": {},
   "outputs": [
    {
     "name": "stdout",
     "output_type": "stream",
     "text": [
      "[[[[-0.          0.18756965]\n",
      "   [ 0.         -0.        ]]\n",
      "\n",
      "  [[-0.          0.        ]\n",
      "   [ 0.         -0.        ]]\n",
      "\n",
      "  [[-0.          0.        ]\n",
      "   [ 0.         -0.        ]]]]\n"
     ]
    },
    {
     "name": "stderr",
     "output_type": "stream",
     "text": [
      "Using 'slow' version of KNNDivergenceEstimator,  because skl_groups_accel isn't available; its 'fast' version is much faster on large problems. Pass version='slow' to suppress this warning. \n",
      "  No module named skl_groups_accel.knn_divs\n",
      "Using 'slow' version of KNNDivergenceEstimator,  because skl_groups_accel isn't available; its 'fast' version is much faster on large problems. Pass version='slow' to suppress this warning. \n",
      "  No module named skl_groups_accel.knn_divs\n"
     ]
    }
   ],
   "source": [
    "feat = Features([sample1, sample2])\n",
    "div_knn = kNN.fit_transform(feat)\n",
    "print div_knn"
   ]
  },
  {
   "cell_type": "markdown",
   "metadata": {},
   "source": [
    "lets try to use it to measure non-Gaussianity"
   ]
  },
  {
   "cell_type": "code",
   "execution_count": 62,
   "metadata": {
    "collapsed": true
   },
   "outputs": [],
   "source": [
    "gauss = mvn([0.], np.identity(1), size=1000)\n",
    "nongauss = np.random.uniform(-3., 3., size=1200).reshape((1200,1))"
   ]
  },
  {
   "cell_type": "code",
   "execution_count": 64,
   "metadata": {},
   "outputs": [
    {
     "data": {
      "image/png": "[encoded data removed]",
      "text/plain": [
       "<matplotlib.figure.Figure at 0x11a4e2b90>"
      ]
     },
     "metadata": {},
     "output_type": "display_data"
    }
   ],
   "source": [
    "fig = plt.figure()\n",
    "sub = fig.add_subplot(111)\n",
    "_ = sub.hist(gauss, normed=True)\n",
    "_ = sub.hist(nongauss, normed=True)"
   ]
  },
  {
   "cell_type": "code",
   "execution_count": 65,
   "metadata": {},
   "outputs": [
    {
     "name": "stdout",
     "output_type": "stream",
     "text": [
      "[[[[-0.          0.86909521]\n",
      "   [ 0.94009614 -0.        ]]\n",
      "\n",
      "  [[-0.          0.32736978]\n",
      "   [ 0.35968187 -0.        ]]\n",
      "\n",
      "  [[-0.          0.29730695]\n",
      "   [ 0.27369896 -0.        ]]\n",
      "\n",
      "  [[-0.          0.282682  ]\n",
      "   [ 0.2460521  -0.        ]]\n",
      "\n",
      "  [[-0.          0.2662349 ]\n",
      "   [ 0.25276583 -0.        ]]]]\n"
     ]
    }
   ],
   "source": [
    "kNN = KNNDivergenceEstimator(div_funcs=[\"renyi:.5\"], Ks=[1,2,3,4,5], version='slow')\n",
    "feat = Features([gauss, nongauss])\n",
    "div_knn_nongauss = kNN.fit_transform(feat)\n",
    "print div_knn_nongauss"
   ]
  },
  {
   "cell_type": "code",
   "execution_count": 49,
   "metadata": {},
   "outputs": [],
   "source": [
    "div_1NN_sym = []\n",
    "div_2NN_sym = []\n",
    "div_3NN_sym = []\n",
    "for i in range(1000): \n",
    "    gauss2 = (mvn([0.], np.identity(1), size=120))\n",
    "    kNN = KNNDivergenceEstimator(div_funcs=[\"renyi:.8\"], Ks=[1,2,3], version='slow')\n",
    "    feat = Features([gauss, gauss2])\n",
    "    div_knn = kNN.fit_transform(feat)\n",
    "    div_1NN_sym.append(0.5*(div_knn[0][0][0][1] + div_knn[0][0][1][0]))\n",
    "    div_2NN_sym.append(0.5*(div_knn[0][1][0][1] + div_knn[0][1][1][0]))\n",
    "    div_3NN_sym.append(0.5*(div_knn[0][2][0][1] + div_knn[0][2][1][0]))"
   ]
  },
  {
   "cell_type": "code",
   "execution_count": 38,
   "metadata": {},
   "outputs": [
    {
     "data": {
      "text/plain": [
       "<matplotlib.collections.LineCollection at 0x119d45650>"
      ]
     },
     "execution_count": 38,
     "metadata": {},
     "output_type": "execute_result"
    },
    {
     "data": {
      "image/png": "[encoded data removed]",
      "text/plain": [
       "<matplotlib.figure.Figure at 0x11a0eb9d0>"
      ]
     },
     "metadata": {},
     "output_type": "display_data"
    }
   ],
   "source": [
    "plt.hist(np.array(div_1NN_sym), normed=True)\n",
    "plt.vlines(0.5*(div_knn_nongauss[0][0][0][1]+div_knn_nongauss[0][0][1][0]), 0, 10)"
   ]
  },
  {
   "cell_type": "code",
   "execution_count": 39,
   "metadata": {},
   "outputs": [
    {
     "data": {
      "text/plain": [
       "<matplotlib.collections.LineCollection at 0x11a1d5b90>"
      ]
     },
     "execution_count": 39,
     "metadata": {},
     "output_type": "execute_result"
    },
    {
     "data": {
      "image/png": "[encoded data removed]",
      "text/plain": [
       "<matplotlib.figure.Figure at 0x11a1e1250>"
      ]
     },
     "metadata": {},
     "output_type": "display_data"
    }
   ],
   "source": [
    "plt.hist(np.array(div_2NN_sym), normed=True)\n",
    "plt.vlines(0.5*(div_knn_nongauss[0][1][0][1]+div_knn_nongauss[0][1][1][0]), 0, 10)"
   ]
  },
  {
   "cell_type": "code",
   "execution_count": 40,
   "metadata": {},
   "outputs": [
    {
     "data": {
      "text/plain": [
       "<matplotlib.collections.LineCollection at 0x11a374e10>"
      ]
     },
     "execution_count": 40,
     "metadata": {},
     "output_type": "execute_result"
    },
    {
     "data": {
      "image/png": "[encoded data removed]",
      "text/plain": [
       "<matplotlib.figure.Figure at 0x11a374e90>"
      ]
     },
     "metadata": {},
     "output_type": "display_data"
    }
   ],
   "source": [
    "plt.hist(np.array(div_3NN_sym), normed=True)\n",
    "plt.vlines(0.5*(div_knn_nongauss[0][2][0][1]+div_knn_nongauss[0][2][1][0]), 0, 10)"
   ]
  },
  {
   "cell_type": "code",
   "execution_count": null,
   "metadata": {
    "collapsed": true
   },
   "outputs": [],
   "source": []
  }
 ],
 "metadata": {
  "kernelspec": {
   "display_name": "Python 2",
   "language": "python",
   "name": "python2"
  },
  "language_info": {
   "codemirror_mode": {
    "name": "ipython",
    "version": 2
   },
   "file_extension": ".py",
   "mimetype": "text/x-python",
   "name": "python",
   "nbconvert_exporter": "python",
   "pygments_lexer": "ipython2",
   "version": "2.7.13"
  }
 },
 "nbformat": 4,
 "nbformat_minor": 2
}
